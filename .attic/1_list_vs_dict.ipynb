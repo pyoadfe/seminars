{
 "cells": [
  {
   "cell_type": "markdown",
   "metadata": {},
   "source": [
    "# Задание\n",
    "Найти самое часто повторяющееся слово в тексте"
   ]
  },
  {
   "cell_type": "code",
   "execution_count": 4,
   "metadata": {},
   "outputs": [
    {
     "name": "stdout",
     "output_type": "stream",
     "text": [
      "В тексте примерно 21574 слов\n"
     ]
    }
   ],
   "source": [
    "from time import monotonic\n",
    "from urllib.request import urlopen\n",
    "\n",
    "with open('bar.txt', encoding='utf-8') as f:\n",
    "    text = f.read()\n",
    "\n",
    "# Хорошо бы убрать знаки препинания, нормализовать падежи и привести все к одному регистру,\n",
    "# но делать это мы, конечно же, не будем\n",
    "words = text.split()\n",
    "print('В тексте примерно', len(words), 'слов')"
   ]
  },
  {
   "cell_type": "markdown",
   "metadata": {},
   "source": [
    "# Через списки"
   ]
  },
  {
   "cell_type": "code",
   "execution_count": 5,
   "metadata": {},
   "outputs": [
    {
     "name": "stdout",
     "output_type": "stream",
     "text": [
      "11.169999999999959 seconds\n",
      "Most common word: и\n"
     ]
    }
   ],
   "source": [
    "t = monotonic()\n",
    "\n",
    "most_common = None\n",
    "max_count = 0\n",
    "for word in words:\n",
    "    count = words.count(word)\n",
    "    if count > max_count:\n",
    "        most_common = word\n",
    "        max_count = count\n",
    "        \n",
    "print(monotonic() - t, 'seconds')\n",
    "\n",
    "print('Most common word:', most_common)"
   ]
  },
  {
   "cell_type": "markdown",
   "metadata": {},
   "source": [
    "# Через словари"
   ]
  },
  {
   "cell_type": "code",
   "execution_count": 6,
   "metadata": {},
   "outputs": [
    {
     "name": "stdout",
     "output_type": "stream",
     "text": [
      "0.016000000000076398 seconds\n",
      "Most common word: и\n"
     ]
    }
   ],
   "source": [
    "t = monotonic()\n",
    "\n",
    "d = {}\n",
    "for word in words:\n",
    "    if word in d:\n",
    "        d[word] += 1\n",
    "    else:\n",
    "        d[word] = 1        \n",
    "most_common = max(d, key=d.get)\n",
    "\n",
    "print(monotonic() - t, 'seconds')\n",
    "\n",
    "print('Most common word:', most_common)"
   ]
  },
  {
   "cell_type": "markdown",
   "metadata": {},
   "source": [
    "# Через `collections.Counter`"
   ]
  },
  {
   "cell_type": "code",
   "execution_count": 7,
   "metadata": {},
   "outputs": [
    {
     "name": "stdout",
     "output_type": "stream",
     "text": [
      "0.0 seconds\n",
      "Most common word: и\n"
     ]
    }
   ],
   "source": [
    "from collections import Counter\n",
    "\n",
    "t = monotonic()\n",
    "\n",
    "c = Counter(words)\n",
    "most_common = c.most_common(1)[0][0]\n",
    "\n",
    "print(monotonic() - t, 'seconds')\n",
    "\n",
    "print('Most common word:', most_common)"
   ]
  },
  {
   "cell_type": "markdown",
   "metadata": {},
   "source": [
    "# Чтение с использованием итераторов"
   ]
  },
  {
   "cell_type": "code",
   "execution_count": 9,
   "metadata": {},
   "outputs": [
    {
     "name": "stdout",
     "output_type": "stream",
     "text": [
      "0.014999999999986358 seconds\n",
      "Most common word: и\n"
     ]
    }
   ],
   "source": [
    "from collections import Counter\n",
    "import itertools\n",
    "\n",
    "t = monotonic()\n",
    "\n",
    "c = Counter()\n",
    "with open('bar.txt', encoding='utf-8') as f:\n",
    "    for x in map(lambda x: x.split(), iter(f)):\n",
    "        c.update(x)\n",
    "\n",
    "most_common = c.most_common(1)[0][0]\n",
    "\n",
    "print(monotonic() - t, 'seconds')\n",
    "\n",
    "print('Most common word:', most_common)"
   ]
  },
  {
   "cell_type": "code",
   "execution_count": null,
   "metadata": {},
   "outputs": [],
   "source": []
  }
 ],
 "metadata": {
  "kernelspec": {
   "display_name": "Python 3",
   "language": "python",
   "name": "python3"
  }
 },
 "nbformat": 4,
 "nbformat_minor": 2
}
