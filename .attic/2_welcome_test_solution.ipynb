{
 "cells": [
  {
   "cell_type": "markdown",
   "metadata": {},
   "source": [
    "# Решение теста, проводившегося на первой паре"
   ]
  },
  {
   "cell_type": "markdown",
   "metadata": {},
   "source": [
    "На первой паре 6 сентября 2019 проводился тест по Питону. Его оригинальное условие вы можете [найти на ГитХабе](https://github.com/pyoadfe/welcome_test).\n",
    "\n",
    "Здесь приводится решение этого теста, условия исправлены за опечатки."
   ]
  },
  {
   "cell_type": "markdown",
   "metadata": {},
   "source": [
    "## [`comprehensions.py`](https://github.com/pyoadfe/welcome_test/blob/master/comprehensions.py)"
   ]
  },
  {
   "cell_type": "code",
   "execution_count": 1,
   "metadata": {},
   "outputs": [
    {
     "name": "stdout",
     "output_type": "stream",
     "text": [
      "[25, 16, 9, 4, 1, 0, 1, 4, 9, 16]\n",
      "[1, 2, 3, 4]\n",
      "{'-5': -5, '-4': -4, '-3': -3, '-2': -2, '-1': -1, '0': 0, '1': 1, '2': 2, '3': 3, '4': 4}\n"
     ]
    }
   ],
   "source": [
    "#!/usr/bin/env python3\n",
    "\n",
    "\"\"\"Перепишите каждую из функций используя вместо циклов списковые включения\"\"\"\n",
    "\n",
    "\n",
    "def square_for(a):\n",
    "    b = []\n",
    "    for x in a:\n",
    "        b.append(x**2)\n",
    "    return b\n",
    "\n",
    "\n",
    "def square_compr(a):\n",
    "    return [x**2 for x in a]\n",
    "\n",
    "\n",
    "def keep_positive_for(a):\n",
    "    b = []\n",
    "    for x in a:\n",
    "        if x > 0:\n",
    "            b.append(x)\n",
    "    return b\n",
    "\n",
    "\n",
    "def keep_positive_compr(a):\n",
    "    return [x for x in a if x > 0]\n",
    "\n",
    "\n",
    "def make_dict_for(a):\n",
    "    b = {}\n",
    "    for x in a:\n",
    "        b[str(x)] = x\n",
    "    return b\n",
    "\n",
    "\n",
    "def make_dict_compr(a):\n",
    "    return {str(x): x for x in a}\n",
    "    # Другой вариант:\n",
    "    # return dict((str(x), x) for x in a)\n",
    "\n",
    "\n",
    "def main():\n",
    "    a = list(range(-5, 5))\n",
    "    print(square_for(a))\n",
    "    print(keep_positive_for(a))\n",
    "    print(make_dict_for(a))\n",
    "    assert square_for(a) == square_compr(a)\n",
    "    assert keep_positive_for(a) == keep_positive_compr(a)\n",
    "    assert make_dict_for(a) == make_dict_compr(a)\n",
    "\n",
    "\n",
    "if __name__ == '__main__':\n",
    "    main()"
   ]
  },
  {
   "cell_type": "markdown",
   "metadata": {},
   "source": [
    "## [`file_io.py`](https://github.com/pyoadfe/welcome_test/blob/master/file_io.py)"
   ]
  },
  {
   "cell_type": "code",
   "execution_count": 2,
   "metadata": {},
   "outputs": [],
   "source": [
    "#!/usr/bin/env python3\n",
    "\n",
    "\"\"\"Прочтите файл cp1251.txt в кодировке cp1251. Создайте новый файл utf8.txt\n",
    "в кодировке utf-8, в котором строки идут в обратном порядке.\n",
    "\"\"\"\n",
    "\n",
    "def main():\n",
    "    with open('cp1251.txt', 'r', encoding='cp1251') as f:\n",
    "        lines = f.readlines()\n",
    "    with open('utf8.txt', 'w', encoding='utf-8') as f:\n",
    "        f.writelines(lines[::-1])\n",
    "    \n",
    "    \n",
    "if __name__ == '__main__':\n",
    "    main()"
   ]
  },
  {
   "cell_type": "markdown",
   "metadata": {},
   "source": [
    "## [`modules.py`](https://github.com/pyoadfe/welcome_test/blob/master/modules.py)"
   ]
  },
  {
   "cell_type": "code",
   "execution_count": 3,
   "metadata": {},
   "outputs": [],
   "source": [
    "#!/usr/bin/env python3\n",
    "\n",
    "\"\"\"Напишите модуль mymodule.utils, содержащий функцию swap.\n",
    "В отличие от других заданий, этот файл исправлять нельзя\n",
    "\"\"\"\n",
    "\n",
    "\n",
    "from mymodule.utils import swap\n",
    "\n",
    "\n",
    "def main():\n",
    "    x = 1\n",
    "    y = 2\n",
    "    assert swap(x, y) == (y, x)  # в оригинальном задании не хватало скобок\n",
    "\n",
    "\n",
    "if __name__ == '__main__':\n",
    "    main()"
   ]
  },
  {
   "cell_type": "markdown",
   "metadata": {},
   "source": [
    "Это задание требует выхода за рамки Jupyter.\n",
    "\n",
    "Требуется создать папку `mymodule` с файлом `utils.py`. Содержание файла `utils.py` приведено ниже:"
   ]
  },
  {
   "cell_type": "code",
   "execution_count": 4,
   "metadata": {},
   "outputs": [],
   "source": [
    "\"\"\"utils\"\"\"\n",
    "\n",
    "\n",
    "def swap(x, y):\n",
    "    return y, x"
   ]
  },
  {
   "cell_type": "markdown",
   "metadata": {},
   "source": [
    "## [`numpy2d.py`](https://github.com/pyoadfe/welcome_test/blob/master/numpy2d.py)"
   ]
  },
  {
   "cell_type": "code",
   "execution_count": 5,
   "metadata": {},
   "outputs": [],
   "source": [
    "#!/usr/bin/env python3\n",
    "\n",
    "\"\"\"Заполните функции так, чтобы прошли тесты\"\"\"\n",
    "\n",
    "\n",
    "import numpy as np\n",
    "\n",
    "\n",
    "def sum_all(a):\n",
    "    \"\"\"Возвращает сумму всех элементов\"\"\"\n",
    "    return a.sum()\n",
    "\n",
    "def sum_columns(a):\n",
    "    \"\"\"Сумма значений в колонках\"\"\"\n",
    "    return a.sum(axis=0)\n",
    "\n",
    "def sum_rows(a):\n",
    "    \"\"\"Сумма значений в строках\"\"\"\n",
    "    return a.sum(axis=1)\n",
    "\n",
    "def reorder1(m):\n",
    "    # Считаем, что матрица n x n, где n - четное\n",
    "    n = m.shape[0]\n",
    "    return np.hstack((m[:n//2, :n//2], m[n//2:, n//2:]))\n",
    "\n",
    "def reorder2(m):\n",
    "    # Считаем для простоты, что m.shape == (4, 4)\n",
    "    return np.vstack((m[2:, :2], m[:3, 2:]))\n",
    "\n",
    "def main():\n",
    "    a = np.array([[1, 2, 3,],\n",
    "                  [4, 5, 6,],\n",
    "                  [7, 8, 9,]])\n",
    "    assert sum_all(a) == 45\n",
    "    assert np.array_equal(sum_columns(a), np.array([12, 15, 18]))\n",
    "    assert np.array_equal(sum_rows(a), np.array([6, 15, 24]))  # Исправление: 24 вместо 26\n",
    "    \n",
    "    m = np.array([[1, 2, 3, 4,],\n",
    "                  [5, 6, 7, 8,],\n",
    "                  [9, 10, 11, 12,],\n",
    "                  [13, 14, 15, 16,]])\n",
    "    m1 = np.array([[1, 2, 11, 12,],\n",
    "                   [5, 6, 15, 16,]])\n",
    "    m2 = np.array([[9, 10],\n",
    "                   [13, 14],\n",
    "                   [3, 4],\n",
    "                   [7, 8],\n",
    "                   [11, 12]])\n",
    "    assert np.array_equal(reorder1(m), m1)\n",
    "    assert np.array_equal(reorder2(m), m2)\n",
    "\n",
    "\n",
    "if __name__ == '__main__':\n",
    "    main()"
   ]
  },
  {
   "cell_type": "code",
   "execution_count": null,
   "metadata": {},
   "outputs": [],
   "source": []
  }
 ],
 "metadata": {
  "kernelspec": {
   "display_name": "Python 3",
   "language": "python",
   "name": "python3"
  },
  "language_info": {
   "codemirror_mode": {
    "name": "ipython",
    "version": 3
   },
   "file_extension": ".py",
   "mimetype": "text/x-python",
   "name": "python",
   "nbconvert_exporter": "python",
   "pygments_lexer": "ipython3",
   "version": "3.7.4"
  }
 },
 "nbformat": 4,
 "nbformat_minor": 2
}
