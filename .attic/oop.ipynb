{
 "cells": [
  {
   "cell_type": "code",
   "execution_count": 1,
   "metadata": {},
   "outputs": [
    {
     "data": {
      "text/plain": [
       "(int, str)"
      ]
     },
     "execution_count": 1,
     "metadata": {},
     "output_type": "execute_result"
    }
   ],
   "source": [
    "x = 42\n",
    "y = \"string\"\n",
    "type(x), type(y)"
   ]
  },
  {
   "cell_type": "code",
   "execution_count": 2,
   "metadata": {},
   "outputs": [],
   "source": [
    "from collections import namedtuple"
   ]
  },
  {
   "cell_type": "code",
   "execution_count": 3,
   "metadata": {},
   "outputs": [
    {
     "data": {
      "text/plain": [
       "(__main__.Point, type)"
      ]
     },
     "execution_count": 3,
     "metadata": {},
     "output_type": "execute_result"
    }
   ],
   "source": [
    "TuplePoint = namedtuple('Point', ['longitude', 'latitude'])\n",
    "x = TuplePoint(53.4, -13.4)\n",
    "\n",
    "type(x), type(TuplePoint)"
   ]
  },
  {
   "cell_type": "code",
   "execution_count": 4,
   "metadata": {},
   "outputs": [],
   "source": [
    "class Point:\n",
    "    def __init__(self, longitude, latitude):\n",
    "        self._longitude = longitude\n",
    "        self._latitude = latitude\n",
    "\n",
    "    @property\n",
    "    def longitude(self):\n",
    "        return self._longitude\n",
    "    \n",
    "    @longitude.setter\n",
    "    def longitude(self, new_longitude):\n",
    "        self._longitude = new_longitude\n",
    "    \n",
    "    @property\n",
    "    def latitude(self):\n",
    "        return self._latitude\n",
    "    \n",
    "    @latitude.setter\n",
    "    def latitude(self, new_latitude):\n",
    "        self._latitude = new_latitude\n",
    "        \n",
    "    def __str__(self):\n",
    "        return \"{:.2f}, {:.2f}\".format(self._longitude, self._latitude)\n",
    "    \n",
    "    def __repr__(self):\n",
    "        return \"Point({}, {})\".format(self._longitude, self._latitude)"
   ]
  },
  {
   "cell_type": "code",
   "execution_count": 5,
   "metadata": {},
   "outputs": [
    {
     "data": {
      "text/plain": [
       "(53.4, -13.4, 53.4, -13.4)"
      ]
     },
     "execution_count": 5,
     "metadata": {},
     "output_type": "execute_result"
    }
   ],
   "source": [
    "x = Point(53.4, -13.4)\n",
    "\n",
    "x.longitude, x.latitude, x._longitude, x._latitude"
   ]
  },
  {
   "cell_type": "code",
   "execution_count": 6,
   "metadata": {},
   "outputs": [
    {
     "data": {
      "text/plain": [
       "14.7"
      ]
     },
     "execution_count": 6,
     "metadata": {},
     "output_type": "execute_result"
    }
   ],
   "source": [
    "x.longitude = 14.7\n",
    "x.longitude"
   ]
  },
  {
   "cell_type": "code",
   "execution_count": 7,
   "metadata": {},
   "outputs": [
    {
     "data": {
      "text/plain": [
       "(Point(14.7, -13.4), '14.70, -13.40')"
      ]
     },
     "execution_count": 7,
     "metadata": {},
     "output_type": "execute_result"
    }
   ],
   "source": [
    "x, str(x)"
   ]
  },
  {
   "cell_type": "code",
   "execution_count": 8,
   "metadata": {},
   "outputs": [],
   "source": [
    "import math\n",
    "\n",
    "class EarthPoint(Point):\n",
    "    RADIUS = 6371.0\n",
    "    \n",
    "    \n",
    "    @staticmethod\n",
    "    def _deg_to_rad(deg):\n",
    "        return deg / 180.0 * math.pi\n",
    "    \n",
    "    def __init__(self, longitude, latitude):\n",
    "        super().__init__(longitude, latitude)\n",
    "        \n",
    "    def distance_to(self, other):\n",
    "        delta_long = math.cos(self._deg_to_rad(self._longitude - other._longitude))\n",
    "        sin_lat1 = math.sin(self._deg_to_rad(self._latitude))\n",
    "        sin_lat2 = math.sin(self._deg_to_rad(other._latitude))\n",
    "        cos_lat1 = math.cos(self._deg_to_rad(self._latitude))\n",
    "        cos_lat2 = math.cos(self._deg_to_rad(other._latitude))\n",
    "        return self.RADIUS * math.acos(sin_lat1*sin_lat2 + cos_lat1*cos_lat2*delta_long)\n",
    "    \n",
    "    @staticmethod\n",
    "    def distance(first, second):\n",
    "        return first.distance_to(second)"
   ]
  },
  {
   "cell_type": "code",
   "execution_count": 9,
   "metadata": {},
   "outputs": [
    {
     "data": {
      "text/plain": [
       "(53.4, -13.4, 6371.0)"
      ]
     },
     "execution_count": 9,
     "metadata": {},
     "output_type": "execute_result"
    }
   ],
   "source": [
    "x = EarthPoint(53.4, -13.4)\n",
    "\n",
    "x.longitude, x.latitude, EarthPoint.RADIUS"
   ]
  },
  {
   "cell_type": "code",
   "execution_count": 10,
   "metadata": {},
   "outputs": [
    {
     "data": {
      "text/plain": [
       "(111.19492664454764, 111.19492664454764)"
      ]
     },
     "execution_count": 10,
     "metadata": {},
     "output_type": "execute_result"
    }
   ],
   "source": [
    "x = EarthPoint(0.0, 0.0)\n",
    "z = EarthPoint(1.0, 0.0)\n",
    "\n",
    "x.distance_to(z), z.distance_to(x)"
   ]
  },
  {
   "cell_type": "code",
   "execution_count": 11,
   "metadata": {},
   "outputs": [
    {
     "data": {
      "text/plain": [
       "111.19492664454764"
      ]
     },
     "execution_count": 11,
     "metadata": {},
     "output_type": "execute_result"
    }
   ],
   "source": [
    "x = EarthPoint(0.0, 90.0)\n",
    "z = EarthPoint(0.0, 89.0)\n",
    "\n",
    "EarthPoint.distance(x, z)"
   ]
  },
  {
   "cell_type": "code",
   "execution_count": 12,
   "metadata": {},
   "outputs": [
    {
     "data": {
      "text/plain": [
       "1.9405944287743828"
      ]
     },
     "execution_count": 12,
     "metadata": {},
     "output_type": "execute_result"
    }
   ],
   "source": [
    "x = EarthPoint(0.0, 89.0)\n",
    "z = EarthPoint(1.0, 89.0)\n",
    "\n",
    "EarthPoint.distance(x, z)"
   ]
  },
  {
   "cell_type": "code",
   "execution_count": 13,
   "metadata": {},
   "outputs": [],
   "source": [
    "class RadPoint:\n",
    "    def __init__(self, longitude, latitude):\n",
    "        self._longitude = self._deg_to_rad(longitude)\n",
    "        self._latitude = self._deg_to_rad(latitude)\n",
    "      \n",
    "    @staticmethod\n",
    "    def _deg_to_rad(deg):\n",
    "        return deg / 180.0 * math.pi\n",
    "    \n",
    "    @staticmethod\n",
    "    def _rad_to_deg(rad):\n",
    "        return rad / math.pi * 180.0\n",
    "        \n",
    "    @property\n",
    "    def longitude(self):\n",
    "        return self._rad_to_deg(self._longitude)\n",
    "    \n",
    "    @longitude.setter\n",
    "    def longitude(self, new_longitude):\n",
    "        self._longitude = self._deg_to_rad(new_longitude)\n",
    "    \n",
    "    @property\n",
    "    def latitude(self):\n",
    "        return self._rad_to_deg(self._latitude)\n",
    "    \n",
    "    @latitude.setter\n",
    "    def latitude(self, new_latitude):\n",
    "        self._latitude = self._deg_to_rad(new_latitude)"
   ]
  },
  {
   "cell_type": "code",
   "execution_count": 14,
   "metadata": {},
   "outputs": [
    {
     "data": {
      "text/plain": [
       "(53.39999999999999,\n",
       " -13.400000000000002,\n",
       " 0.9320058205649718,\n",
       " -0.23387411976724018)"
      ]
     },
     "execution_count": 14,
     "metadata": {},
     "output_type": "execute_result"
    }
   ],
   "source": [
    "x = RadPoint(53.4, -13.4)\n",
    "\n",
    "x.longitude, x.latitude, x._longitude, x._latitude"
   ]
  },
  {
   "cell_type": "code",
   "execution_count": 15,
   "metadata": {},
   "outputs": [
    {
     "data": {
      "text/plain": [
       "(14.7, 0.2565634000431664)"
      ]
     },
     "execution_count": 15,
     "metadata": {},
     "output_type": "execute_result"
    }
   ],
   "source": [
    "x.longitude = 14.7\n",
    "x.longitude, x._longitude"
   ]
  },
  {
   "cell_type": "code",
   "execution_count": 16,
   "metadata": {},
   "outputs": [],
   "source": [
    "class RadEarthPoint(RadPoint):\n",
    "    RADIUS = 6371.0\n",
    "    \n",
    "    \n",
    "    def __init__(self, longitude, latitude):\n",
    "        super().__init__(longitude, latitude)\n",
    "        \n",
    "    def distance_to(self, other):\n",
    "        delta_long = math.cos(self._longitude - other._longitude)\n",
    "        sin_lat1 = math.sin(self._latitude)\n",
    "        sin_lat2 = math.sin(other._latitude)\n",
    "        cos_lat1 = math.cos(self._latitude)\n",
    "        cos_lat2 = math.cos(other._latitude)\n",
    "        return self.RADIUS * math.acos(sin_lat1*sin_lat2 + cos_lat1*cos_lat2*delta_long)\n",
    "    \n",
    "    @staticmethod\n",
    "    def distance(first, second):\n",
    "        return first.distance_to(second)"
   ]
  },
  {
   "cell_type": "code",
   "execution_count": 17,
   "metadata": {},
   "outputs": [
    {
     "data": {
      "text/plain": [
       "(111.19492664454764, 111.19492664454764)"
      ]
     },
     "execution_count": 17,
     "metadata": {},
     "output_type": "execute_result"
    }
   ],
   "source": [
    "x = RadEarthPoint(0.0, 0.0)\n",
    "z = RadEarthPoint(1.0, 0.0)\n",
    "\n",
    "x.distance_to(z), z.distance_to(x)"
   ]
  }
 ],
 "metadata": {
  "kernelspec": {
   "display_name": "Python 3",
   "language": "python",
   "name": "python3"
  },
  "language_info": {
   "codemirror_mode": {
    "name": "ipython",
    "version": 3
   },
   "file_extension": ".py",
   "mimetype": "text/x-python",
   "name": "python",
   "nbconvert_exporter": "python",
   "pygments_lexer": "ipython3",
   "version": "3.6.15"
  }
 },
 "nbformat": 4,
 "nbformat_minor": 2
}
