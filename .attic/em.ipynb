{
 "cells": [
  {
   "cell_type": "code",
   "execution_count": 3,
   "metadata": {},
   "outputs": [
    {
     "name": "stdout",
     "output_type": "stream",
     "text": [
      "0.7492369341607631 1.4964536417853527 0.6979400863492848 0.49787937929699966 0.20177364190289435\n",
      "0.25 0.5 0.2 1.5 0.7\n"
     ]
    },
    {
     "data": {
      "image/png": "[encoded data removed]",
      "text/plain": [
       "<Figure size 432x288 with 1 Axes>"
      ]
     },
     "metadata": {
      "needs_background": "light"
     },
     "output_type": "display_data"
    }
   ],
   "source": [
    "#!/usr/bin/env python3\n",
    "\n",
    "import numpy as np\n",
    "import matplotlib.pyplot as plt\n",
    "\n",
    "tau = 0.25\n",
    "mu1 = 0.5\n",
    "sigma1 = 0.2\n",
    "mu2 = 1.5\n",
    "sigma2 = 0.7\n",
    "n = 100000\n",
    "\n",
    "x_1 = np.random.normal(mu1, sigma1, int(tau*n))\n",
    "x_2 = np.random.normal(mu2, sigma2, int((1-tau)*n))\n",
    "x = np.r_[x_1, x_2]\n",
    "\n",
    "plt.hist(x, bins=50)\n",
    "\n",
    "def t(x, tau, mu1, mu2, sigma12, sigma22):\n",
    "\ttau0 = tau\n",
    "\ttau1 = 1 - tau\n",
    "\n",
    "\tT1 = tau0 / np.sqrt(2*np.pi*sigma12) * np.exp(-0.5*((x - mu1)**2)/sigma12)\n",
    "\tT2 = tau1 / np.sqrt(2*np.pi*sigma22) * np.exp(-0.5*((x - mu2)**2)/sigma22)\n",
    "\tT_norm = T1 + T2\n",
    "\n",
    "\tT1 = np.divide(T1, T_norm, out=np.full_like(T_norm, 0.5), where=T_norm!=0)\n",
    "\tT2 = np.divide(T2, T_norm, out=np.full_like(T_norm, 0.5), where=T_norm!=0)\n",
    "\n",
    "\treturn np.vstack((T1,T2))\n",
    "\n",
    "def theta(x, *old):\n",
    "\tT1, T2 = t(x, *old)\n",
    "\ttau = np.sum(T1) / np.sum(T1+T2)\n",
    "\tmu1 = np.sum(x * T1) / np.sum(T1)\n",
    "\tmu2 = np.sum(x * T2) / np.sum(T2)\n",
    "\tsigma12 = np.sum((x - mu1)**2 * T1) / np.sum(T1)\n",
    "\tsigma22 = np.sum((x - mu2)**2 * T2) / np.sum(T2)\n",
    "\treturn tau, mu1, mu2, sigma12, sigma22\n",
    "\n",
    "def em_double_gauss(x, tau, mu1, sigma1, mu2, sigma2, rtol=1e-3):\n",
    "    th = (tau, mu1, mu2, sigma1**2, sigma2**2)\n",
    "    for i in range(100):\n",
    "        th = theta(x, *th)\n",
    "    \n",
    "    return (th[0], th[1], th[3]**0.5, th[2], th[4]**0.5)\n",
    "\n",
    "new_params = em_double_gauss(x, 0.5, np.mean(x)-np.std(x), np.mean(x)+np.std(x), np.std(x), np.std(x))\n",
    "\n",
    "print(*new_params)\n",
    "print(tau, mu1, sigma1, mu2, sigma2)\n",
    "\n",
    "T1, T2 = t(x, *new_params)\n",
    "\n"
   ]
  }
 ],
 "metadata": {
  "kernelspec": {
   "display_name": "p39",
   "language": "python",
   "name": "p39"
  },
  "language_info": {
   "codemirror_mode": {
    "name": "ipython",
    "version": 3
   },
   "file_extension": ".py",
   "mimetype": "text/x-python",
   "name": "python",
   "nbconvert_exporter": "python",
   "pygments_lexer": "ipython3",
   "version": "3.9.12"
  },
  "latex_envs": {
   "LaTeX_envs_menu_present": true,
   "autoclose": false,
   "autocomplete": true,
   "bibliofile": "biblio.bib",
   "cite_by": "apalike",
   "current_citInitial": 1,
   "eqLabelWithNumbers": true,
   "eqNumInitial": 1,
   "hotkeys": {
    "equation": "Ctrl-E",
    "itemize": "Ctrl-I"
   },
   "labels_anchors": false,
   "latex_user_defs": false,
   "report_style_numbering": false,
   "user_envs_cfg": false
  }
 },
 "nbformat": 4,
 "nbformat_minor": 2
}
