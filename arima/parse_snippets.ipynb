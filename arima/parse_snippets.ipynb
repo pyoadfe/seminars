{
 "cells": [
  {
   "cell_type": "code",
   "execution_count": 1,
   "metadata": {},
   "outputs": [],
   "source": [
    "%matplotlib inline\n",
    "import datetime\n",
    "import pandas as pd\n",
    "import numpy as np\n",
    "import statsmodels\n",
    "import statsmodels.api as sm\n",
    "import matplotlib\n",
    "import matplotlib.pyplot as plt"
   ]
  },
  {
   "cell_type": "code",
   "execution_count": 2,
   "metadata": {},
   "outputs": [],
   "source": [
    "parser = lambda date: datetime.datetime.strptime(date, '%d.%m.%Y %H:%M')\n",
    "df = pd.read_csv('weather.csv.gz', sep=';', comment='#', index_col=0,\n",
    "                 parse_dates=['Local time in Elista (airport)'], date_parser=parser)"
   ]
  },
  {
   "cell_type": "code",
   "execution_count": null,
   "metadata": {},
   "outputs": [],
   "source": []
  },
  {
   "cell_type": "code",
   "execution_count": null,
   "metadata": {},
   "outputs": [],
   "source": []
  },
  {
   "cell_type": "code",
   "execution_count": null,
   "metadata": {},
   "outputs": [],
   "source": []
  },
  {
   "cell_type": "code",
   "execution_count": 3,
   "metadata": {},
   "outputs": [],
   "source": [
    "import json\n",
    "\n",
    "with open(\"sun_indices_spot.json\", encoding=\"utf-8-sig\") as f:\n",
    "    x = json.load(f)\n",
    "    data = x[\"data\"]\n",
    "    time = pd.to_datetime(data[\"x\"])\n",
    "    area = np.asarray(data[\"area\"], dtype=np.float32)\n",
    "    wolf = np.asarray(data[\"wolf\"], dtype=np.float32)\n",
    "    df = pd.DataFrame({\"time\": time, \"area\":area, \"wolf\":wolf})\n",
    "    df = df.set_index(\"time\")\n",
    "    \n",
    "df_year = df.resample(\"365d\").mean()"
   ]
  },
  {
   "cell_type": "code",
   "execution_count": null,
   "metadata": {},
   "outputs": [],
   "source": []
  }
 ],
 "metadata": {
  "kernelspec": {
   "display_name": "pyoadfe",
   "language": "python",
   "name": "pyoadfe"
  },
  "language_info": {
   "codemirror_mode": {
    "name": "ipython",
    "version": 3
   },
   "file_extension": ".py",
   "mimetype": "text/x-python",
   "name": "python",
   "nbconvert_exporter": "python",
   "pygments_lexer": "ipython3",
   "version": "3.10.10"
  }
 },
 "nbformat": 4,
 "nbformat_minor": 4
}
