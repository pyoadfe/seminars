{
 "cells": [
  {
   "cell_type": "code",
   "execution_count": 1,
   "metadata": {},
   "outputs": [],
   "source": [
    "import numpy as np\n",
    "import matplotlib\n",
    "import matplotlib.pyplot as plt\n",
    "from matplotlib.patches import Ellipse"
   ]
  },
  {
   "cell_type": "code",
   "execution_count": 2,
   "metadata": {},
   "outputs": [],
   "source": [
    "# Implementation from HW2\n",
    "# You may use np.linalg.lstsq instead\n",
    "\n",
    "def lstsq_svd(a, b, rcond=None):\n",
    "    a = np.atleast_2d(a)\n",
    "    b = np.atleast_1d(b)\n",
    "    u, s, vh = np.linalg.svd(a, full_matrices=False)\n",
    "    if rcond is None:\n",
    "        where = (s != 0.0)\n",
    "    else:\n",
    "        where = s > s[0] * rcond\n",
    "    x = vh.T @ np.divide(u.T[:s.shape[0],:] @ b, s, out=np.zeros(a.shape[1]), where=where)\n",
    "    r = a @ x - b\n",
    "    cost = np.inner(r, r)\n",
    "    sigma0 = cost / (b.shape[0] - x.shape[0])\n",
    "    var = vh.T @ np.diag(np.power(s, -2, where=where, out=np.zeros(s.shape[0]))) @ vh * sigma0\n",
    "    \n",
    "    return x, cost, var"
   ]
  },
  {
   "cell_type": "code",
   "execution_count": 3,
   "metadata": {},
   "outputs": [],
   "source": [
    "def generate_ellipse(phi, width, height, size):\n",
    "    x = np.vstack([width / 2 * np.cos(phi), height / 2 * np.sin(phi)]).T\n",
    "    X = x + np.random.normal(0.0, 0.0125, (size,*x.shape))\n",
    "    return X"
   ]
  },
  {
   "cell_type": "code",
   "execution_count": 4,
   "metadata": {},
   "outputs": [],
   "source": [
    "def fit_ellipse(x, rcond=None):\n",
    "    A = np.hstack([x**2,x.prod(axis=1).reshape(-1,1),x])\n",
    "    cond = np.linalg.cond(A)\n",
    "    ret = lstsq_svd(A, np.ones(x.shape[0]), rcond=rcond)\n",
    "    # Use in case of np.linalg.lstsq  \n",
    "    # cov = ret[1] / (A.shape[0] - A.shape[1]) * np.linalg.inv(A.T @ A)\n",
    "    return ret + (cond,)"
   ]
  },
  {
   "cell_type": "code",
   "execution_count": 5,
   "metadata": {},
   "outputs": [],
   "source": [
    "width, height = 1.25, 1.25\n",
    "\n",
    "lim = 5.0 / 180.0 * np.pi\n",
    "phi = np.linspace(-lim, lim, 4)\n",
    "x = generate_ellipse(phi, width, height, 4)"
   ]
  },
  {
   "cell_type": "code",
   "execution_count": 6,
   "metadata": {},
   "outputs": [],
   "source": [
    "data_set = 0\n",
    "\n",
    "if data_set > 0:\n",
    "    z = generate_ellipse(-np.pi, width, height, 4)\n",
    "    x = np.hstack([x, z])\n",
    "\n",
    "if data_set > 1:\n",
    "    z = generate_ellipse(0.5 * np.pi, width, height, 4)\n",
    "    x = np.hstack([x, z])\n",
    "\n",
    "if data_set > 2:\n",
    "    z = generate_ellipse(-0.5 * np.pi, width, height, 4)\n",
    "    x = np.hstack([x, z])"
   ]
  },
  {
   "cell_type": "code",
   "execution_count": 7,
   "metadata": {},
   "outputs": [],
   "source": [
    "def plot_ellipse():\n",
    "    ellipse = Ellipse((0, 0), width=width, height=height, fill=False, edgecolor='blue', label='True curve')\n",
    "    ax = plt.gca()\n",
    "    ax.add_patch(ellipse)"
   ]
  },
  {
   "cell_type": "code",
   "execution_count": 8,
   "metadata": {},
   "outputs": [],
   "source": [
    "def plot_curve(params):\n",
    "    x = np.linspace(-1.0, 1.0, 150)\n",
    "    y = np.linspace(-1.0, 1.0, 150)\n",
    "    X, Y = np.meshgrid(x, y)\n",
    "    A = np.dstack([X**2,Y**2,X*Y,X,Y])\n",
    "    F = np.dot(A, params) - 1\n",
    "\n",
    "    ax = plt.gca()\n",
    "    ax.contour(X, Y, F, levels=[0], label=\"Predicted curve\")"
   ]
  },
  {
   "cell_type": "code",
   "execution_count": 9,
   "metadata": {},
   "outputs": [
    {
     "data": {
      "text/plain": [
       "(-1, 1)"
      ]
     },
     "execution_count": 9,
     "metadata": {},
     "output_type": "execute_result"
    },
    {
     "data": {
      "image/png": "[encoded data removed]",
      "text/plain": [
       "<Figure size 1080x432 with 1 Axes>"
      ]
     },
     "metadata": {
      "needs_background": "light"
     },
     "output_type": "display_data"
    }
   ],
   "source": [
    "plt.figure(figsize=(15,6))\n",
    "\n",
    "plt.scatter(*x.T, color='red', s=2.5, label=\"Samples\")\n",
    "plot_ellipse()\n",
    "plt.axis('equal')\n",
    "plt.legend()\n",
    "plt.xlim(-1,1)\n",
    "plt.ylim(-1,1)"
   ]
  },
  {
   "cell_type": "code",
   "execution_count": 10,
   "metadata": {},
   "outputs": [],
   "source": [
    "params, cost, cov, cond = fit_ellipse(x.reshape(-1,2))"
   ]
  },
  {
   "cell_type": "code",
   "execution_count": 11,
   "metadata": {},
   "outputs": [
    {
     "data": {
      "text/plain": [
       "(1616.5898326232464,\n",
       " array([-2.59965424,  0.08270333,  0.78828929,  3.2248981 , -0.49281794]))"
      ]
     },
     "execution_count": 11,
     "metadata": {},
     "output_type": "execute_result"
    }
   ],
   "source": [
    "cond, params"
   ]
  },
  {
   "cell_type": "code",
   "execution_count": 12,
   "metadata": {},
   "outputs": [
    {
     "name": "stderr",
     "output_type": "stream",
     "text": [
      "/usr/lib64/python3.6/site-packages/matplotlib/contour.py:1006: UserWarning: The following kwargs were not used by contour: 'label'\n",
      "  s)\n"
     ]
    },
    {
     "data": {
      "text/plain": [
       "(-1, 1)"
      ]
     },
     "execution_count": 12,
     "metadata": {},
     "output_type": "execute_result"
    },
    {
     "data": {
      "image/png": "[encoded data removed]",
      "text/plain": [
       "<Figure size 1080x432 with 1 Axes>"
      ]
     },
     "metadata": {
      "needs_background": "light"
     },
     "output_type": "display_data"
    }
   ],
   "source": [
    "plt.figure(figsize=(15,6))\n",
    "\n",
    "plt.scatter(*x.T, color='red', s=2.5, label=\"Samples\")\n",
    "plot_ellipse()\n",
    "plot_curve(params)\n",
    "plt.axis('equal')\n",
    "plt.legend()\n",
    "plt.xlim(-1,1)\n",
    "plt.ylim(-1,1)"
   ]
  },
  {
   "cell_type": "code",
   "execution_count": 13,
   "metadata": {},
   "outputs": [
    {
     "data": {
      "text/plain": [
       "(array([[ 1.        ,  0.09206861,  0.38797423, -0.99969128, -0.39310236],\n",
       "        [ 0.09206861,  1.        ,  0.04767835, -0.11002227, -0.04717249],\n",
       "        [ 0.38797423,  0.04767835,  1.        , -0.39159512, -0.99978091],\n",
       "        [-0.99969128, -0.11002227, -0.39159512,  1.        ,  0.39671628],\n",
       "        [-0.39310236, -0.04717249, -0.99978091,  0.39671628,  1.        ]]),\n",
       " array([2.37672287e-04, 3.57698411e-03, 3.47054648e-02, 9.31520100e-05,\n",
       "        1.35190740e-02]))"
      ]
     },
     "execution_count": 13,
     "metadata": {},
     "output_type": "execute_result"
    }
   ],
   "source": [
    "sigma = np.sqrt(np.diag(cov))\n",
    "cor = cov / np.outer(sigma, sigma)\n",
    "cor, np.diag(cov)"
   ]
  },
  {
   "cell_type": "code",
   "execution_count": 14,
   "metadata": {},
   "outputs": [
    {
     "data": {
      "text/plain": [
       "<matplotlib.colorbar.Colorbar at 0x7fd73e098a90>"
      ]
     },
     "execution_count": 14,
     "metadata": {},
     "output_type": "execute_result"
    },
    {
     "data": {
      "text/plain": [
       "<Figure size 1080x432 with 0 Axes>"
      ]
     },
     "metadata": {},
     "output_type": "display_data"
    },
    {
     "data": {
      "image/png": "[encoded data removed]",
      "text/plain": [
       "<Figure size 288x288 with 2 Axes>"
      ]
     },
     "metadata": {
      "needs_background": "light"
     },
     "output_type": "display_data"
    }
   ],
   "source": [
    "plt.figure(figsize=(15,6))\n",
    "plt.matshow(cor, vmin=-1.0, vmax=1.0, cmap='bwr')\n",
    "plt.colorbar()"
   ]
  },
  {
   "cell_type": "code",
   "execution_count": 15,
   "metadata": {},
   "outputs": [],
   "source": [
    "params, cost, cov, cond = fit_ellipse(x.reshape(-1,2), rcond=0.01)"
   ]
  },
  {
   "cell_type": "code",
   "execution_count": 16,
   "metadata": {},
   "outputs": [
    {
     "data": {
      "text/plain": [
       "(1616.5898326232464,\n",
       " array([ 0.71619535,  0.00358949, -0.07108892,  1.15667879, -0.11458171]))"
      ]
     },
     "execution_count": 16,
     "metadata": {},
     "output_type": "execute_result"
    }
   ],
   "source": [
    "cond, params"
   ]
  },
  {
   "cell_type": "code",
   "execution_count": 17,
   "metadata": {},
   "outputs": [
    {
     "data": {
      "text/plain": [
       "(-1, 1)"
      ]
     },
     "execution_count": 17,
     "metadata": {},
     "output_type": "execute_result"
    },
    {
     "data": {
      "image/png": "[encoded data removed]",
      "text/plain": [
       "<Figure size 1080x432 with 1 Axes>"
      ]
     },
     "metadata": {
      "needs_background": "light"
     },
     "output_type": "display_data"
    }
   ],
   "source": [
    "plt.figure(figsize=(15,6))\n",
    "\n",
    "plt.scatter(*x.T, color='red', s=2.5, label=\"Samples\")\n",
    "plot_ellipse()\n",
    "plot_curve(params)\n",
    "plt.axis('equal')\n",
    "plt.legend()\n",
    "plt.xlim(-1,1)\n",
    "plt.ylim(-1,1)"
   ]
  },
  {
   "cell_type": "code",
   "execution_count": 18,
   "metadata": {},
   "outputs": [
    {
     "data": {
      "text/plain": [
       "(array([[ 1.        , -0.56928717,  0.65107805,  0.57960913,  0.65106025],\n",
       "        [-0.56928717,  1.        , -0.99466256,  0.33999241, -0.99466498],\n",
       "        [ 0.65107805, -0.99466256,  1.        , -0.24114303,  1.        ],\n",
       "        [ 0.57960913,  0.33999241, -0.24114303,  1.        , -0.2411658 ],\n",
       "        [ 0.65106025, -0.99466498,  1.        , -0.2411658 ,  1.        ]]),\n",
       " array([4.55738737e-05, 5.39573398e-08, 5.58070008e-03, 7.16267356e-05,\n",
       "        1.43982619e-02]))"
      ]
     },
     "execution_count": 18,
     "metadata": {},
     "output_type": "execute_result"
    }
   ],
   "source": [
    "sigma = np.sqrt(np.diag(cov))\n",
    "cor = cov / np.outer(sigma, sigma)\n",
    "cor, np.diag(cov)"
   ]
  },
  {
   "cell_type": "code",
   "execution_count": 19,
   "metadata": {},
   "outputs": [
    {
     "data": {
      "text/plain": [
       "<matplotlib.colorbar.Colorbar at 0x7fd7461917f0>"
      ]
     },
     "execution_count": 19,
     "metadata": {},
     "output_type": "execute_result"
    },
    {
     "data": {
      "text/plain": [
       "<Figure size 1080x432 with 0 Axes>"
      ]
     },
     "metadata": {},
     "output_type": "display_data"
    },
    {
     "data": {
      "image/png": "[encoded data removed]",
      "text/plain": [
       "<Figure size 288x288 with 2 Axes>"
      ]
     },
     "metadata": {
      "needs_background": "light"
     },
     "output_type": "display_data"
    }
   ],
   "source": [
    "plt.figure(figsize=(15,6))\n",
    "plt.matshow(cor, vmin=-1.0, vmax=1.0, cmap='bwr')\n",
    "plt.colorbar()"
   ]
  },
  {
   "cell_type": "markdown",
   "metadata": {},
   "source": [
    "### Делаем замену переменных.\n",
    "\n",
    "Старая модель:\n",
    "\n",
    "$$a_1 x^2 + a_2 y^2 + a_3 x y + a_4 x + a_5 y = 1$$\n",
    "\n",
    "Нам бы хотелось, чтобы псевдорешение (т.е. вектор $\\bf{a}$ с минимальной нормой) было похоже на нужный нам геометрический объект.\n",
    "\n",
    "$$a_1 \\approx \\left({\\frac{2}{W}}\\right)^2$$\n",
    "$$a_2 \\approx \\left({\\frac{2}{H}}\\right)^2$$\n",
    "$$a_3 = a_4 = a_5 \\approx 0$$\n",
    "\n",
    "Сделаем замену переменных \n",
    "\n",
    "$$b_1 = a_1 - \\left({\\frac{2}{W}}\\right)^2$$\n",
    "$$b_2 = a_2 - \\left({\\frac{2}{H}}\\right)^2$$\n",
    "$$b_3 = a_3$$\n",
    "$$b_4 = a_4$$\n",
    "$$b_5 = a_5$$\n",
    "\n",
    "Тогда новая модель:\n",
    "\n",
    "$$b_1 x^2 + b_2 y^2 + b_3 x y + b_4 x + b_5 y = 1 - x^2 \\left({\\frac{2}{W}}\\right)^2 - y^2 \\left({\\frac{2}{H}}\\right)^2$$"
   ]
  },
  {
   "cell_type": "code",
   "execution_count": 20,
   "metadata": {},
   "outputs": [],
   "source": [
    "def fit_ellipse_2(x, rcond=None):\n",
    "    A = np.hstack([x**2,x.prod(axis=1).reshape(-1,1),x])\n",
    "    cond = np.linalg.cond(A)\n",
    "    c = np.asarray([width, height])\n",
    "    ret = lstsq_svd(A, np.ones(x.shape[0]) - np.sum((2*x/c)**2, axis=1), rcond=rcond)\n",
    "    # Use in case of np.linalg.lstsq  \n",
    "    # cov = ret[1] / (A.shape[0] - A.shape[1]) * np.linalg.inv(A.T @ A)\n",
    "    return ret + (cond,)"
   ]
  },
  {
   "cell_type": "code",
   "execution_count": 21,
   "metadata": {},
   "outputs": [],
   "source": [
    "def plot_curve_2(params):\n",
    "    x = np.linspace(-1.0, 1.0, 50)\n",
    "    y = np.linspace(-1.0, 1.0, 50)\n",
    "    X, Y = np.meshgrid(x, y)\n",
    "    A = np.dstack([X**2,Y**2,X*Y,X,Y])\n",
    "    F = np.dot(A, params) - (1 - (2*X/width)**2 - (2*Y/height)**2)\n",
    "\n",
    "    ax = plt.gca()\n",
    "    ax.contour(X, Y, F, levels=[0], label=\"Predicted curve\")"
   ]
  },
  {
   "cell_type": "code",
   "execution_count": 22,
   "metadata": {},
   "outputs": [],
   "source": [
    "# Try with rcond = None\n",
    "\n",
    "params, cost, cov, cond = fit_ellipse_2(x.reshape(-1,2), rcond=0.01)"
   ]
  },
  {
   "cell_type": "code",
   "execution_count": 23,
   "metadata": {},
   "outputs": [
    {
     "data": {
      "text/plain": [
       "array([-0.00637507,  0.00033413, -0.10805968,  0.00292451, -0.17356987])"
      ]
     },
     "execution_count": 23,
     "metadata": {},
     "output_type": "execute_result"
    }
   ],
   "source": [
    "params"
   ]
  },
  {
   "cell_type": "code",
   "execution_count": 24,
   "metadata": {},
   "outputs": [
    {
     "data": {
      "text/plain": [
       "(-1, 1)"
      ]
     },
     "execution_count": 24,
     "metadata": {},
     "output_type": "execute_result"
    },
    {
     "data": {
      "image/png": "[encoded data removed]",
      "text/plain": [
       "<Figure size 1080x432 with 1 Axes>"
      ]
     },
     "metadata": {
      "needs_background": "light"
     },
     "output_type": "display_data"
    }
   ],
   "source": [
    "plt.figure(figsize=(15,6))\n",
    "\n",
    "plt.scatter(*x.T, color='red', s=2.5, label=\"Samples\")\n",
    "plot_ellipse()\n",
    "plot_curve_2(params)\n",
    "plt.axis('equal')\n",
    "plt.legend()\n",
    "plt.xlim(-1,1)\n",
    "plt.ylim(-1,1)"
   ]
  },
  {
   "cell_type": "code",
   "execution_count": 25,
   "metadata": {},
   "outputs": [
    {
     "data": {
      "text/plain": [
       "(array([[ 1.        , -0.56928717,  0.65107805,  0.57960913,  0.65106025],\n",
       "        [-0.56928717,  1.        , -0.99466256,  0.33999241, -0.99466498],\n",
       "        [ 0.65107805, -0.99466256,  1.        , -0.24114303,  1.        ],\n",
       "        [ 0.57960913,  0.33999241, -0.24114303,  1.        , -0.2411658 ],\n",
       "        [ 0.65106025, -0.99466498,  1.        , -0.2411658 ,  1.        ]]),\n",
       " array([1.08791102e-04, 1.28803589e-07, 1.33218984e-02, 1.70982866e-04,\n",
       "        3.43706309e-02]))"
      ]
     },
     "execution_count": 25,
     "metadata": {},
     "output_type": "execute_result"
    }
   ],
   "source": [
    "sigma = np.sqrt(np.diag(cov))\n",
    "cor = cov / np.outer(sigma, sigma)\n",
    "cor, np.diag(cov)"
   ]
  },
  {
   "cell_type": "code",
   "execution_count": 26,
   "metadata": {},
   "outputs": [
    {
     "data": {
      "text/plain": [
       "<matplotlib.colorbar.Colorbar at 0x7fd73dd9ff60>"
      ]
     },
     "execution_count": 26,
     "metadata": {},
     "output_type": "execute_result"
    },
    {
     "data": {
      "text/plain": [
       "<Figure size 1080x432 with 0 Axes>"
      ]
     },
     "metadata": {},
     "output_type": "display_data"
    },
    {
     "data": {
      "image/png": "[encoded data removed]",
      "text/plain": [
       "<Figure size 288x288 with 2 Axes>"
      ]
     },
     "metadata": {
      "needs_background": "light"
     },
     "output_type": "display_data"
    }
   ],
   "source": [
    "plt.figure(figsize=(15,6))\n",
    "plt.matshow(cor, vmin=-1.0, vmax=1.0, cmap='bwr')\n",
    "plt.colorbar()"
   ]
  }
 ],
 "metadata": {
  "kernelspec": {
   "display_name": "Python 3",
   "language": "python",
   "name": "python3"
  },
  "language_info": {
   "codemirror_mode": {
    "name": "ipython",
    "version": 3
   },
   "file_extension": ".py",
   "mimetype": "text/x-python",
   "name": "python",
   "nbconvert_exporter": "python",
   "pygments_lexer": "ipython3",
   "version": "3.6.15"
  },
  "latex_envs": {
   "LaTeX_envs_menu_present": true,
   "autoclose": false,
   "autocomplete": true,
   "bibliofile": "biblio.bib",
   "cite_by": "apalike",
   "current_citInitial": 1,
   "eqLabelWithNumbers": true,
   "eqNumInitial": 1,
   "hotkeys": {
    "equation": "Ctrl-E",
    "itemize": "Ctrl-I"
   },
   "labels_anchors": false,
   "latex_user_defs": false,
   "report_style_numbering": false,
   "user_envs_cfg": false
  }
 },
 "nbformat": 4,
 "nbformat_minor": 2
}
