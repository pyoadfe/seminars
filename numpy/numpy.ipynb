{
 "cells": [
  {
   "cell_type": "markdown",
   "metadata": {},
   "source": [
    "# Модуль для работы с массивами `numpy`"
   ]
  },
  {
   "cell_type": "code",
   "execution_count": 1,
   "metadata": {},
   "outputs": [
    {
     "name": "stdout",
     "output_type": "stream",
     "text": [
      "[ 1.00e+00  1.00e+01  5.53e+01 -1.00e+23]\n",
      "[ 2.000e+00  2.000e+01  1.106e+02 -2.000e+23]\n",
      "[1.00000e+00 1.00000e+02 3.05809e+03 1.00000e+46]\n",
      "(4,)\n",
      "4\n",
      "float64\n",
      "<class 'numpy.ndarray'>\n"
     ]
    }
   ],
   "source": [
    "import numpy as np\n",
    "\n",
    "a = np.array([1, 10, 55.3, -1e23])\n",
    "print(a)\n",
    "print(2 * a)\n",
    "print(a**2)\n",
    "print(a.shape)\n",
    "print(a.size)\n",
    "assert np.prod(a.shape) == a.size\n",
    "assert len(a.shape) == a.ndim\n",
    "print(a.dtype)\n",
    "print(type(a))"
   ]
  },
  {
   "cell_type": "code",
   "execution_count": 2,
   "metadata": {},
   "outputs": [
    {
     "name": "stdout",
     "output_type": "stream",
     "text": [
      "[[9 8 7]\n",
      " [6 5 4]\n",
      " [3 2 1]]\n",
      "[[18 16 14]\n",
      " [12 10  8]\n",
      " [ 6  4  2]]\n",
      "[[18 24 28]\n",
      " [12 15 16]\n",
      " [ 6  6  4]]\n",
      "(3, 3)\n",
      "9\n",
      "int64\n",
      "<class 'numpy.ndarray'>\n"
     ]
    }
   ],
   "source": [
    "b = np.array([[9, 8, 7],\n",
    "              [6, 5, 4],\n",
    "              [3, 2, 1]])\n",
    "print(b)\n",
    "print(2 * b)\n",
    "print(b * [2, 3, 4])\n",
    "print(b.shape)\n",
    "print(b.size)\n",
    "assert np.prod(a.shape) == a.size\n",
    "assert len(b.shape) == b.ndim\n",
    "print(b.dtype)\n",
    "print(type(b))"
   ]
  },
  {
   "cell_type": "code",
   "execution_count": 3,
   "metadata": {},
   "outputs": [
    {
     "name": "stdout",
     "output_type": "stream",
     "text": [
      "int64\n",
      "-3535985420588157519 42391158275216203514294433201 Почему числа не равны?\n"
     ]
    }
   ],
   "source": [
    "int_b = b.astype(int)\n",
    "print(int_b.dtype)\n",
    "print(int_b[0,0]**30, int(b[0,0])**30, 'Почему числа не равны?')"
   ]
  },
  {
   "cell_type": "markdown",
   "metadata": {},
   "source": [
    "## Создание массивов"
   ]
  },
  {
   "cell_type": "code",
   "execution_count": 4,
   "metadata": {},
   "outputs": [
    {
     "name": "stdout",
     "output_type": "stream",
     "text": [
      "[0 1 2 3 4 5 6 7 8 9]\n",
      "[10  9  8  7  6  5  4  3  2  1  0]\n",
      "[0.         0.33333333 0.66666667 1.         1.33333333 1.66666667\n",
      " 2.         2.33333333]\n",
      "[0.         0.33333333 0.66666667 1.         1.33333333 1.66666667]\n",
      "[0.         0.33333333 0.66666667 1.         1.33333333 1.66666667\n",
      " 2.        ]\n"
     ]
    }
   ],
   "source": [
    "a = np.arange(10)  # как range, но создает numpy.ndarray\n",
    "print(a)\n",
    "a = np.arange(10, -1, -1)\n",
    "print(a)\n",
    "# Если мы хотим создать сетку, то лучше не использовать эту функцию\n",
    "# Смотрите сами, предположим нам нужны точки от 0 до 2 включительно c шагом 1/3:\n",
    "a = np.arange(0, 2 + 1/3, 1/3)\n",
    "print(a)\n",
    "a = np.arange(0, 2, 1/3)\n",
    "print(a)\n",
    "# Другое дело с np.linspace:\n",
    "a = np.linspace(0, 2, 7)\n",
    "print(a)"
   ]
  },
  {
   "cell_type": "markdown",
   "metadata": {},
   "source": [
    "### Пустой массив\n",
    "Если вам нужно лишь выделить память, а сам массив вы заполните потом:"
   ]
  },
  {
   "cell_type": "code",
   "execution_count": 5,
   "metadata": {},
   "outputs": [
    {
     "name": "stdout",
     "output_type": "stream",
     "text": [
      "Тут лажеит «мусор», но не случайный:\n",
      " [0.0e+000 4.9e-324 9.9e-324 1.5e-323 2.0e-323 2.5e-323 3.0e-323 3.5e-323\n",
      " 4.0e-323 4.4e-323]\n",
      "Тоже мусор, но разложенный по-другому:\n",
      " [[4.68953652e-310 0.00000000e+000 0.00000000e+000 0.00000000e+000]\n",
      " [0.00000000e+000 0.00000000e+000 0.00000000e+000 0.00000000e+000]\n",
      " [0.00000000e+000 0.00000000e+000 0.00000000e+000 0.00000000e+000]]\n"
     ]
    }
   ],
   "source": [
    "a = np.empty(10, dtype=np.float)\n",
    "print('Тут лажеит «мусор», но не случайный:\\n', a)\n",
    "a = np.empty((3, 4))  # Можно указывать любой shape\n",
    "print('Тоже мусор, но разложенный по-другому:\\n', a)"
   ]
  },
  {
   "cell_type": "markdown",
   "metadata": {},
   "source": [
    "### Заполненные массивы\n",
    "В качестве первого аргумента всегда `shape` создаваемого массива или целое число, если массив одномерный\n",
    "В современном `numpy` тип элементов (`dtype`) по-умолчанию — `float`"
   ]
  },
  {
   "cell_type": "code",
   "execution_count": 6,
   "metadata": {},
   "outputs": [
    {
     "name": "stdout",
     "output_type": "stream",
     "text": [
      "[0. 0. 0. 0. 0. 0. 0. 0. 0. 0.]\n",
      "[[255 255]\n",
      " [255 255]\n",
      " [255 255]]\n"
     ]
    }
   ],
   "source": [
    "zeros_float = np.zeros(10)\n",
    "print(zeros_float)\n",
    "uint8 = np.zeros((3, 2), dtype=np.uint8)\n",
    "uint8 -= 1\n",
    "print(uint8)"
   ]
  },
  {
   "cell_type": "code",
   "execution_count": 7,
   "metadata": {},
   "outputs": [
    {
     "name": "stdout",
     "output_type": "stream",
     "text": [
      "[1. 1. 1. 1. 1. 1. 1. 1. 1. 1. 1.]\n",
      "[['1' '1']\n",
      " ['1' '1']]\n"
     ]
    }
   ],
   "source": [
    "ones_float = np.ones(11)\n",
    "print(ones_float)\n",
    "ones_str = np.ones((2, 2), dtype=str)\n",
    "print(ones_str)"
   ]
  },
  {
   "cell_type": "code",
   "execution_count": 8,
   "metadata": {},
   "outputs": [
    {
     "name": "stdout",
     "output_type": "stream",
     "text": [
      "[[2 2 2 2]\n",
      " [2 2 2 2]\n",
      " [2 2 2 2]]\n"
     ]
    }
   ],
   "source": [
    "twos = np.full((3, 4), 2, dtype=int)\n",
    "print(twos)"
   ]
  },
  {
   "cell_type": "markdown",
   "metadata": {},
   "source": [
    "Если вам нужно создать новый массив по форме и, быть может, по типу элементов похожий на старый, то используйте функции `np.*_like()`. Они работают точно как предыдущие функции, но в качестве первого элемента принимают не размер, а другой массив."
   ]
  },
  {
   "cell_type": "code",
   "execution_count": 9,
   "metadata": {},
   "outputs": [
    {
     "name": "stdout",
     "output_type": "stream",
     "text": [
      "[3 3 3 3 3 3 3 3]\n",
      "[3.14159265 3.14159265 3.14159265 3.14159265 3.14159265 3.14159265\n",
      " 3.14159265 3.14159265]\n",
      "«Пустой» b:\n",
      " [6.92581604e-310+4.68953652e-310j 6.12605948e+223+4.24203466e+175j\n",
      " 1.26576301e+266+1.64735856e+161j 3.93516415e+024+2.52301636e-258j\n",
      " 4.47593816e-091+5.28595595e-085j 1.05135744e-153+3.74165274e+233j\n",
      " 6.98348245e-077+4.83245960e+276j 1.05089594e-153+6.01353861e-154j]\n",
      "Заполненный b:\n",
      " [0.        +3.14159265j 0.        +3.14159265j 0.        +3.14159265j\n",
      " 0.        +3.14159265j 3.14159265+1.j         3.14159265+1.j\n",
      " 3.14159265+1.j         3.14159265+1.j        ]\n"
     ]
    }
   ],
   "source": [
    "arange = np.arange(8, dtype=int)\n",
    "\n",
    "zeros = np.zeros_like(arange)\n",
    "\n",
    "pis = np.full_like(arange, np.pi)\n",
    "print(pis)\n",
    "assert pis.dtype is arange.dtype\n",
    "pis = np.full_like(arange, np.pi, dtype=float)\n",
    "print(pis)\n",
    "\n",
    "b = np.empty_like(arange, dtype=complex)\n",
    "print('«Пустой» b:\\n', b)\n",
    "n = arange.shape[0]\n",
    "b[:n//2] = zeros[:n//2] + 1j * pis[:n//2]\n",
    "b[n//2:] = pis[n//2:] + 1j * np.ones(n//2)\n",
    "print('Заполненный b:\\n', b)"
   ]
  },
  {
   "cell_type": "markdown",
   "metadata": {},
   "source": [
    "## Срезы\n",
    "### Одномерье"
   ]
  },
  {
   "cell_type": "code",
   "execution_count": 10,
   "metadata": {},
   "outputs": [
    {
     "name": "stdout",
     "output_type": "stream",
     "text": [
      "[0 1 2 3 4 5 6 7 8 9]\n",
      "Первые 5 элементов: [0 1 2 3 4]\n",
      "Последние 3 элемента: [7 8 9]\n",
      "Элементы между 2 и 8 не включительно с шагом 3: [2 5]\n",
      "Задом наперёд: [9 8 7 6 5 4 3 2 1 0]\n"
     ]
    }
   ],
   "source": [
    "a = np.arange(10)\n",
    "print(a)\n",
    "print('Первые 5 элементов:', a[:5])\n",
    "print('Последние 3 элемента:', a[-3:])\n",
    "print('Элементы между 2 и 8 не включительно с шагом 3:', a[2:8:3])\n",
    "print('Задом наперёд:', a[::-1])"
   ]
  },
  {
   "cell_type": "markdown",
   "metadata": {},
   "source": [
    "Помните про объектную модель Питона: переменная — это ссылка на массив, а не сам массив"
   ]
  },
  {
   "cell_type": "code",
   "execution_count": 11,
   "metadata": {},
   "outputs": [
    {
     "name": "stdout",
     "output_type": "stream",
     "text": [
      "[-100.    1.    2.    3.    4.] [-100.    1.    2.    3.    4.]\n",
      "Пустой массив: [100.   1.   2.   3.   4.]\n",
      "Старый массив и бывший пустым массивы: [-100.    1.    2.    3.    4.] [2.71828183 1.         2.         3.         4.        ]\n"
     ]
    }
   ],
   "source": [
    "a = np.arange(5, dtype=np.float)\n",
    "b = a\n",
    "assert np.array_equal(a, b)\n",
    "assert a is b\n",
    "b[0] = -100\n",
    "print(a, b)\n",
    "\n",
    "c = np.empty_like(a)\n",
    "print('Пустой массив:', c)\n",
    "c[:] = a\n",
    "c[0] = np.exp(1)\n",
    "print('Старый массив и бывший пустым массивы:', a, c)"
   ]
  },
  {
   "cell_type": "markdown",
   "metadata": {},
   "source": [
    "Более простой способ скопировать массив целиком — это метод `.copy()`"
   ]
  },
  {
   "cell_type": "code",
   "execution_count": 12,
   "metadata": {},
   "outputs": [
    {
     "name": "stdout",
     "output_type": "stream",
     "text": [
      "[0. 0. 0. 0. 0.] [-100.    0.    0.    0.    0.]\n"
     ]
    }
   ],
   "source": [
    "a = np.zeros(5)\n",
    "b = a.copy()\n",
    "assert np.array_equal(a, b)\n",
    "assert b is not a\n",
    "b[0] = -100\n",
    "print(a, b)"
   ]
  },
  {
   "cell_type": "markdown",
   "metadata": {},
   "source": [
    "### Многомерье"
   ]
  },
  {
   "cell_type": "code",
   "execution_count": 13,
   "metadata": {},
   "outputs": [
    {
     "name": "stdout",
     "output_type": "stream",
     "text": [
      "[[ 0  1  2  3  4]\n",
      " [ 5  6  7  8  9]\n",
      " [10 11 12 13 14]]\n",
      "[[ 0  5 10]\n",
      " [ 1  6 11]\n",
      " [ 2  7 12]\n",
      " [ 3  8 13]\n",
      " [ 4  9 14]]\n"
     ]
    }
   ],
   "source": [
    "a = np.arange(15).reshape(3, 5)\n",
    "print(a)\n",
    "print(a.T)"
   ]
  },
  {
   "cell_type": "code",
   "execution_count": 14,
   "metadata": {
    "scrolled": true
   },
   "outputs": [
    {
     "name": "stdout",
     "output_type": "stream",
     "text": [
      "[[ 0  1  2  3  4]\n",
      " [ 5  6  7  8  9]\n",
      " [10 11 12 13 14]]\n",
      "Последний элемент: 14\n",
      "Вторая (индекс 1) строка: [5 6 7 8 9]\n",
      "Второй с конца столбец: [ 3  8 13]\n",
      "Чётные столбцы:\n",
      " [[ 0  2  4]\n",
      " [ 5  7  9]\n",
      " [10 12 14]]\n"
     ]
    }
   ],
   "source": [
    "a = np.arange(15).reshape(3, 5)\n",
    "print(a)\n",
    "print('Последний элемент:', a[-1, -1])\n",
    "print('Вторая (индекс 1) строка:', a[1])\n",
    "print('Второй с конца столбец:', a[:, -2])\n",
    "print('Чётные столбцы:\\n', a[:, ::2])"
   ]
  },
  {
   "cell_type": "markdown",
   "metadata": {},
   "source": [
    "Теперь мы можем решить задание из приветливого теста с первого семинара"
   ]
  },
  {
   "cell_type": "code",
   "execution_count": 15,
   "metadata": {},
   "outputs": [
    {
     "name": "stdout",
     "output_type": "stream",
     "text": [
      "[[ 1  2 11 12]\n",
      " [ 5  6 15 16]]\n",
      "\n",
      "[[ 1  2 11 12]\n",
      " [ 5  6 15 16]]\n"
     ]
    }
   ],
   "source": [
    "def reorder1(m):\n",
    "    # Считаем, что матрица n x n, где n - четное\n",
    "    n = m.shape[0]\n",
    "    return np.hstack((m[:n//2, :n//2], m[n//2:, n//2:]))\n",
    "\n",
    "a = np.arange(1, 10).reshape(3, 3)\n",
    "m = np.arange(1, 17).reshape(4, 4)\n",
    "m1 = np.array([[1, 2, 11, 12,],\n",
    "               [5, 6, 15, 16,]])\n",
    "\n",
    "print(m1)\n",
    "print()\n",
    "print(reorder1(m))\n",
    "\n",
    "assert np.array_equal(reorder1(m), m1)"
   ]
  },
  {
   "cell_type": "code",
   "execution_count": 16,
   "metadata": {},
   "outputs": [
    {
     "name": "stdout",
     "output_type": "stream",
     "text": [
      "[[ 9 10]\n",
      " [13 14]\n",
      " [ 3  4]\n",
      " [ 7  8]\n",
      " [11 12]]\n",
      "\n",
      "[[ 9 10]\n",
      " [13 14]\n",
      " [ 3  4]\n",
      " [ 7  8]\n",
      " [11 12]]\n"
     ]
    }
   ],
   "source": [
    "def reorder2(m):\n",
    "    k = m.shape[0] // 4\n",
    "    m1 = m[k*2:,  0:k*2]\n",
    "    m2 = m[0:k*3, k*2:]\n",
    "    return np.vstack([m1, m2])\n",
    "\n",
    "a = np.arange(1, 10).reshape(3, 3)\n",
    "m = np.arange(1, 17).reshape(4, 4)\n",
    "\n",
    "m2 = np.array([[9, 10],\n",
    "               [13, 14],\n",
    "               [3, 4],\n",
    "               [7, 8],\n",
    "               [11, 12]])\n",
    "\n",
    "print(m2)\n",
    "print()\n",
    "print(reorder2(m))\n",
    "\n",
    "assert np.array_equal(reorder2(m), m2)"
   ]
  },
  {
   "cell_type": "code",
   "execution_count": 17,
   "metadata": {},
   "outputs": [
    {
     "name": "stdout",
     "output_type": "stream",
     "text": [
      "[ 0  1  2  3  4  5  6  7  8  9 10 11 12 13 14 15]\n",
      "(4, 4)\n",
      "(16,)\n",
      "[[[ 0  1  2  3  4  5  6  7]]\n",
      "\n",
      " [[ 8  9 10 11 12 13 14 15]]]\n"
     ]
    }
   ],
   "source": [
    "a = np.arange(16)\n",
    "print(a)\n",
    "\n",
    "b1 = a.reshape(4, 4)\n",
    "b2 = a.reshape(4, -1)\n",
    "b3 = a.reshape(-1, 4)\n",
    "assert b1.shape == b2.shape == b3.shape\n",
    "assert np.array_equal(b1, b2)\n",
    "assert np.array_equal(b1, b3)\n",
    "\n",
    "a.resize(4, 4)\n",
    "print(a.shape)\n",
    "a.shape = 16\n",
    "print(a.shape)\n",
    "\n",
    "c = a.reshape(2, 1, 8)\n",
    "print(c)"
   ]
  },
  {
   "cell_type": "code",
   "execution_count": 18,
   "metadata": {},
   "outputs": [
    {
     "name": "stdout",
     "output_type": "stream",
     "text": [
      "[[ 0  1  2  3]\n",
      " [ 4  5  6  7]\n",
      " [ 8  9 10 11]\n",
      " [12 13 14 15]]\n",
      "3 (4, 1, 4)\n"
     ]
    }
   ],
   "source": [
    "a = np.arange(16).reshape(4, 4)\n",
    "print(a)\n",
    "\n",
    "b1 = a[:, np.newaxis, :]\n",
    "b2 = a.reshape(4, 1, 4)\n",
    "b3 = a.reshape(4, 1, -1)\n",
    "assert b1.shape == b2.shape == b3.shape\n",
    "assert np.array_equal(b1, b2)\n",
    "assert np.array_equal(b1, b3)\n",
    "print(b1.ndim, b1.shape)"
   ]
  },
  {
   "cell_type": "markdown",
   "metadata": {},
   "source": [
    "Такие «дополнительные» измерения могуть быть полезны при операциях\n",
    "с массивами разных размерностей"
   ]
  },
  {
   "cell_type": "code",
   "execution_count": 19,
   "metadata": {},
   "outputs": [
    {
     "name": "stdout",
     "output_type": "stream",
     "text": [
      "Сумма каждой строки a с b:\n",
      " [[0. 1. 2. 3.]\n",
      " [0. 1. 2. 3.]\n",
      " [0. 1. 2. 3.]\n",
      " [0. 1. 2. 3.]]\n",
      "Сумма каждого столбца a с b:\n",
      " [[0. 0. 0. 0.]\n",
      " [1. 1. 1. 1.]\n",
      " [2. 2. 2. 2.]\n",
      " [3. 3. 3. 3.]]\n"
     ]
    }
   ],
   "source": [
    "a = np.zeros((4, 4))\n",
    "b = np.arange(4)\n",
    "print('Сумма каждой строки a с b:\\n', a + b)\n",
    "print('Сумма каждого столбца a с b:\\n', a + b[:, np.newaxis])"
   ]
  },
  {
   "cell_type": "markdown",
   "metadata": {},
   "source": [
    "## Математические операции над массивами\n",
    "### Некоторые операции над каждым элементом"
   ]
  },
  {
   "cell_type": "code",
   "execution_count": 20,
   "metadata": {
    "scrolled": true
   },
   "outputs": [
    {
     "name": "stdout",
     "output_type": "stream",
     "text": [
      "x = [0.         1.04719755 2.0943951  3.14159265]\n",
      "sin(x) = [0.00000000e+00 8.66025404e-01 8.66025404e-01 1.22464680e-16]\n",
      "exp(x) = [ 1.          2.84965391  8.1205274  23.14069263]\n",
      "cbrt(x) = [0.         1.0154913  1.27943886 1.46459189]\n",
      "x^pi = [ 0.          1.15590398 10.20082699 36.46215961]\n"
     ]
    }
   ],
   "source": [
    "x = np.linspace(0, np.pi, 4)\n",
    "print('x =', x)\n",
    "print('sin(x) =', np.sin(x))\n",
    "print('exp(x) =', np.exp(x))\n",
    "print('cbrt(x) =', np.cbrt(x))\n",
    "print('x^pi =', x**np.pi)"
   ]
  },
  {
   "cell_type": "markdown",
   "metadata": {},
   "source": [
    "Математические функции, определенные в `np.`, при работе с некомплексными числами не возвращают комплексных чисел, а возвращают `np.nan`. Используйте `np.emath` или явно указывайте, что входное число комплексное"
   ]
  },
  {
   "cell_type": "code",
   "execution_count": 21,
   "metadata": {},
   "outputs": [
    {
     "name": "stdout",
     "output_type": "stream",
     "text": [
      "nan\n",
      "sqrt(-x) = [0.+0.j         0.+1.02332671j 0.+1.44720251j 0.+1.77245385j] = [0.+0.j         0.+1.02332671j 0.+1.44720251j 0.+1.77245385j]\n"
     ]
    },
    {
     "name": "stderr",
     "output_type": "stream",
     "text": [
      "/usr/lib/python3.6/site-packages/ipykernel_launcher.py:1: RuntimeWarning: invalid value encountered in sqrt\n",
      "  \"\"\"Entry point for launching an IPython kernel.\n"
     ]
    }
   ],
   "source": [
    "print(np.sqrt(-1))\n",
    "print('sqrt(-x) =', np.emath.sqrt(-x), '=', np.sqrt(-x + 0j))"
   ]
  },
  {
   "cell_type": "markdown",
   "metadata": {},
   "source": [
    "### Некоторые операции над всеми элементами"
   ]
  },
  {
   "cell_type": "code",
   "execution_count": 22,
   "metadata": {},
   "outputs": [
    {
     "name": "stdout",
     "output_type": "stream",
     "text": [
      "a = [ 3  6  9 12 15]\n",
      "sum(a) = 45\n",
      "min(a) = 3 max(a) = 15\n",
      "std(a) = 4.242640687119285\n",
      "mean(a) = 9.0\n",
      "median(a) = 9.0\n"
     ]
    }
   ],
   "source": [
    "a = np.arange(3, 18, 3)\n",
    "print('a =', a)\n",
    "print('sum(a) =', np.sum(a))\n",
    "print('min(a) =', np.min(a), 'max(a) =', np.max(a))\n",
    "print('std(a) =', np.std(a))\n",
    "print('mean(a) =', np.mean(a))\n",
    "print('median(a) =', np.median(a))"
   ]
  },
  {
   "cell_type": "markdown",
   "metadata": {},
   "source": [
    "Для этих операций можно выбрать ось, вдоль которой они будут выполнены"
   ]
  },
  {
   "cell_type": "code",
   "execution_count": 23,
   "metadata": {},
   "outputs": [
    {
     "name": "stdout",
     "output_type": "stream",
     "text": [
      "[[ 0  1  2  3]\n",
      " [ 4  5  6  7]\n",
      " [ 8  9 10 11]\n",
      " [12 13 14 15]]\n",
      "[24 28 32 36]\n",
      "[ 6 22 38 54]\n"
     ]
    }
   ],
   "source": [
    "a = np.arange(16).reshape(4, 4)\n",
    "print(a)\n",
    "print(np.sum(a, axis=0))\n",
    "print(np.sum(a, axis=1))"
   ]
  },
  {
   "cell_type": "markdown",
   "metadata": {},
   "source": [
    "Теперь мы можем решить задания из приветливого теста с первого семинара"
   ]
  },
  {
   "cell_type": "code",
   "execution_count": 24,
   "metadata": {},
   "outputs": [],
   "source": [
    "def sum_all(a):\n",
    "    \"\"\"Возвращает сумму всех элементов\"\"\"\n",
    "    return a.sum()\n",
    "\n",
    "def sum_columns(a):\n",
    "    \"\"\"Сумма значений в колонках\"\"\"\n",
    "    return a.sum(axis=0)\n",
    "\n",
    "def sum_rows(a):\n",
    "    \"\"\"Сумма значений в строках\"\"\"\n",
    "    return a.sum(axis=1)\n",
    "\n",
    "a = np.arange(1, 10).reshape(3, 3)\n",
    "assert sum_all(a) == 45\n",
    "assert np.array_equal(sum_columns(a), np.array([12, 15, 18]))\n",
    "assert np.array_equal(sum_rows(a), np.array([6, 15, 24]))  # Исправление: 24 вместо 26"
   ]
  },
  {
   "cell_type": "markdown",
   "metadata": {},
   "source": [
    "### Некоторые векторные операции"
   ]
  },
  {
   "cell_type": "code",
   "execution_count": 25,
   "metadata": {},
   "outputs": [
    {
     "name": "stdout",
     "output_type": "stream",
     "text": [
      "[0. 1.]\n",
      "[0. 1.]\n"
     ]
    }
   ],
   "source": [
    "x = np.array([[0,-1],[1,0]], dtype=np.float32)\n",
    "z = np.array([1.0,0], dtype=np.float32)\n",
    "print(x @ z)\n",
    "print(x.dot(z))"
   ]
  },
  {
   "cell_type": "code",
   "execution_count": 26,
   "metadata": {},
   "outputs": [
    {
     "name": "stdout",
     "output_type": "stream",
     "text": [
      "1.0\n",
      "2.0\n"
     ]
    }
   ],
   "source": [
    "z = np.array([1.0,1.0], dtype=np.float32)\n",
    "x = np.array([0.0,1.0], dtype=np.float32)\n",
    "print(np.inner(z, x))\n",
    "print(np.inner(z, z))"
   ]
  },
  {
   "cell_type": "code",
   "execution_count": 27,
   "metadata": {},
   "outputs": [
    {
     "name": "stdout",
     "output_type": "stream",
     "text": [
      "[[0. 1.]\n",
      " [0. 0.]]\n",
      "[[0. 0.]\n",
      " [0. 0.]]\n"
     ]
    }
   ],
   "source": [
    "e = np.array([[0,1],[0,0]], dtype=np.float32)\n",
    "print(e)\n",
    "print(e.dot(e))"
   ]
  },
  {
   "cell_type": "code",
   "execution_count": 28,
   "metadata": {},
   "outputs": [
    {
     "name": "stdout",
     "output_type": "stream",
     "text": [
      "100.0\n",
      "200.0\n",
      "200.0\n"
     ]
    }
   ],
   "source": [
    "x = np.ones((100, 100), dtype=np.float32)\n",
    "z = np.eye(100) * 2\n",
    "print(np.trace(x))\n",
    "# Сначала вычисляем матрицу произведения, затем её след\n",
    "print(np.trace(x.dot(z)))\n",
    "# Вычисляем след сразу, не вычисляя недиагональные элементы произведения двух матриц\n",
    "print(np.einsum('ij,ji', x, z))"
   ]
  },
  {
   "cell_type": "markdown",
   "metadata": {},
   "source": [
    "## Поиск по упорядеченному массиву"
   ]
  },
  {
   "cell_type": "code",
   "execution_count": 29,
   "metadata": {},
   "outputs": [
    {
     "name": "stdout",
     "output_type": "stream",
     "text": [
      "[0. 1. 3. 5. 7.]\n",
      "[0. 1. 3.] 3.141592653589793 [5. 7.]\n"
     ]
    }
   ],
   "source": [
    "a = np.array([1, 5, 3, 0, 7], dtype=np.float)\n",
    "a.sort()\n",
    "print(a)\n",
    "x = np.pi\n",
    "i = np.searchsorted(a, x)\n",
    "print(a[:i], x, a[i:])"
   ]
  },
  {
   "cell_type": "markdown",
   "metadata": {},
   "source": [
    "# Чтение табличных данных"
   ]
  },
  {
   "cell_type": "markdown",
   "metadata": {},
   "source": [
    "## `open`"
   ]
  },
  {
   "cell_type": "code",
   "execution_count": 30,
   "metadata": {},
   "outputs": [
    {
     "name": "stdout",
     "output_type": "stream",
     "text": [
      "1 1.1\n",
      "2 0.5\n",
      "3.14 10\n",
      "4 -0.7\n"
     ]
    }
   ],
   "source": [
    "with open('file.dat', encoding='utf8') as f:\n",
    "    pairs = [line.split() for line in f]\n",
    "\n",
    "for x, y in pairs:\n",
    "    print(x, y)"
   ]
  },
  {
   "cell_type": "code",
   "execution_count": 31,
   "metadata": {},
   "outputs": [
    {
     "name": "stdout",
     "output_type": "stream",
     "text": [
      "[1.0, 2.0, 3.14, 4.0] [1.1, 0.5, 10.0, -0.7]\n"
     ]
    }
   ],
   "source": [
    "a = [float(x) for x, _ in pairs]\n",
    "b = [float(y) for _, y in pairs]\n",
    "print(a, b)"
   ]
  },
  {
   "cell_type": "markdown",
   "metadata": {},
   "source": [
    "## `numpy.genfromtxt`"
   ]
  },
  {
   "cell_type": "code",
   "execution_count": 32,
   "metadata": {},
   "outputs": [
    {
     "name": "stdout",
     "output_type": "stream",
     "text": [
      "[(1., 1.52101, 13.64, 4.49, 1.1 , 71.78, 0.06, 8.75, 0., 0., 1.)\n",
      " (2., 1.51761, 13.89, 3.6 , 1.36, 72.73, 0.48, 7.83, 0., 0., 1.)\n",
      " (3., 1.51618, 13.53, 3.55, 1.54, 72.99, 0.39, 7.78, 0., 0., 1.)\n",
      " (4., 1.51766, 13.21, 3.69, 1.29, 72.61, 0.57, 8.22, 0., 0., 1.)\n",
      " (5., 1.51742, 13.27, 3.62, 1.24, 73.08, 0.55, 8.07, 0., 0., 1.)] [('id', '<f8'), ('n', '<f8'), ('Na', '<f8'), ('Mg', '<f8'), ('Al', '<f8'), ('Si', '<f8'), ('K', '<f8'), ('Ca', '<f8'), ('Ba', '<f8'), ('Fe', '<f8'), ('Type', '<f8')]\n",
      "[1.52101 1.51761 1.51618 1.51766 1.51742] [13.64 13.89 13.53 13.21 13.27]\n"
     ]
    }
   ],
   "source": [
    "import numpy as np\n",
    "\n",
    "names = (\"id\", \"n\", \"Na\", \"Mg\", \"Al\", \"Si\", \"K\", \"Ca\", \"Ba\", \"Fe\", \"Type\")\n",
    "data = np.genfromtxt('glass.csv', delimiter=',', names=names)\n",
    "print(data[0:5], data.dtype)\n",
    "print(data['n'][0:5], data['Na'][0:5])"
   ]
  },
  {
   "cell_type": "markdown",
   "metadata": {},
   "source": [
    "## `pandas`"
   ]
  },
  {
   "cell_type": "code",
   "execution_count": 33,
   "metadata": {},
   "outputs": [
    {
     "name": "stdout",
     "output_type": "stream",
     "text": [
      "          n     Na    Mg    Al     Si     K    Ca   Ba   Fe  Type\n",
      "id                                                               \n",
      "1   1.52101  13.64  4.49  1.10  71.78  0.06  8.75  0.0  0.0     1\n",
      "2   1.51761  13.89  3.60  1.36  72.73  0.48  7.83  0.0  0.0     1\n",
      "3   1.51618  13.53  3.55  1.54  72.99  0.39  7.78  0.0  0.0     1\n",
      "4   1.51766  13.21  3.69  1.29  72.61  0.57  8.22  0.0  0.0     1\n",
      "5   1.51742  13.27  3.62  1.24  73.08  0.55  8.07  0.0  0.0     1\n",
      "id\n",
      "1    1.52101\n",
      "2    1.51761\n",
      "3    1.51618\n",
      "4    1.51766\n",
      "5    1.51742\n",
      "Name: n, dtype: float64\n",
      "n        1.52101\n",
      "Na      13.64000\n",
      "Mg       4.49000\n",
      "Al       1.10000\n",
      "Si      71.78000\n",
      "K        0.06000\n",
      "Ca       8.75000\n",
      "Ba       0.00000\n",
      "Fe       0.00000\n",
      "Type     1.00000\n",
      "Name: 1, dtype: float64\n"
     ]
    }
   ],
   "source": [
    "import pandas as pd\n",
    "\n",
    "names = (\"id\", \"n\", \"Na\", \"Mg\", \"Al\", \"Si\", \"K\", \"Ca\", \"Ba\", \"Fe\", \"Type\")\n",
    "data = pd.read_csv('glass.csv', header=None, names=names, index_col=0)\n",
    "print(data.head())\n",
    "print(data.n.head())\n",
    "print(data.iloc[0])"
   ]
  },
  {
   "cell_type": "code",
   "execution_count": 34,
   "metadata": {},
   "outputs": [
    {
     "name": "stdout",
     "output_type": "stream",
     "text": [
      "Chunk 0\n",
      "     length     width    size    conc   conc1      asym   m3long  m3trans  \\\n",
      "0   28.7967   16.0021  2.6449  0.3918  0.1982   27.7004  22.0110  -8.2027   \n",
      "1   31.6036   11.7235  2.5185  0.5303  0.3773   26.2722  23.8238  -9.9574   \n",
      "2  162.0520  136.0310  4.0612  0.0374  0.0187  116.7410 -64.8580 -45.2160   \n",
      "3   23.8172    9.5728  2.3385  0.6147  0.3922   27.2107  -6.4633  -7.1513   \n",
      "4   75.1362   30.9205  3.1611  0.3168  0.1832   -5.5277  28.5525  21.8393   \n",
      "\n",
      "     alpha      dist class  \n",
      "0  40.0920   81.8828     g  \n",
      "1   6.3609  205.2610     g  \n",
      "2  76.9600  256.7880     g  \n",
      "3  10.4490  116.7370     g  \n",
      "4   4.6480  356.4620     g  \n",
      "\n",
      "Chunk 1\n",
      "       length    width    size    conc   conc1     asym   m3long  m3trans  \\\n",
      "1000  61.2167  21.0987  2.8993  0.2875  0.1482 -75.2965  27.4636 -18.4181   \n",
      "1001  30.8845  17.3793  2.7792  0.4505  0.2469  33.5866  27.5615   6.7951   \n",
      "1002  19.9908  17.7412  2.6175  0.5380  0.2835  14.8796 -13.7601 -13.9440   \n",
      "1003  60.9338  22.2767  3.1011  0.1815  0.0963 -31.4107 -25.5768  19.3509   \n",
      "1004  56.2502  25.7749  3.2911  0.1488  0.0770  46.7788  49.8155  17.6717   \n",
      "\n",
      "        alpha      dist class  \n",
      "1000   5.8060  285.1400     g  \n",
      "1001  10.2947  141.4980     g  \n",
      "1002  75.1784   78.8644     g  \n",
      "1003  13.8070  232.7400     g  \n",
      "1004   4.1770  227.3230     g  \n",
      "\n",
      "Chunk 2\n",
      "       length    width    size    conc   conc1     asym   m3long  m3trans  \\\n",
      "2000  42.6022  16.2177  2.6542  0.2794  0.1408   5.8280 -20.4591   7.5307   \n",
      "2001  20.2427   6.8375  2.1569  0.7944  0.4634  19.6570  15.0587  -5.3686   \n",
      "2002  37.2558  17.8501  2.7226  0.3371  0.1790  18.8022  37.3022  13.4788   \n",
      "2003  61.2538  48.2495  3.5864  0.1128  0.0693  43.2478  45.3327  37.8267   \n",
      "2004  46.5503  21.7313  2.6410  0.3131  0.1726  56.6296  42.9528  21.9683   \n",
      "\n",
      "        alpha      dist class  \n",
      "2000   9.8372  217.4340     g  \n",
      "2001  22.9125  169.2650     g  \n",
      "2002  14.8817  155.7990     g  \n",
      "2003  14.4978   93.0088     g  \n",
      "2004  18.7204  245.7970     g  \n",
      "\n",
      "Chunk 3\n",
      "       length    width    size    conc   conc1     asym   m3long  m3trans  \\\n",
      "3000  24.6165  15.9126  2.7443  0.4757  0.2676   7.9465 -18.4872  13.7342   \n",
      "3001  34.7211  22.2190  2.9892  0.2860  0.1512  40.9308 -11.5358 -14.9930   \n",
      "3002  18.5607   7.4240  2.3314  0.7879  0.4825   2.8892  -7.5293  -0.7839   \n",
      "3003  19.8467  19.3818  2.3936  0.5172  0.2606  22.9817  17.1788 -18.7203   \n",
      "3004  29.2488  11.1347  2.3608  0.4619  0.2505 -23.2236  19.9490  -3.5003   \n",
      "\n",
      "        alpha      dist class  \n",
      "3000  15.1140  190.9770     g  \n",
      "3001  21.4860  194.8150     g  \n",
      "3002  56.1460   46.8337     g  \n",
      "3003  55.9520  144.9560     g  \n",
      "3004  36.6096  113.4870     g  \n",
      "\n",
      "Chunk 4\n",
      "       length    width    size    conc   conc1     asym   m3long  m3trans  \\\n",
      "4000  94.9230  25.5776  3.4601  0.1491  0.0754 -60.3048  89.4115  15.5445   \n",
      "4001  81.4835  27.3376  3.2641  0.2874  0.1761  10.4481 -30.9463 -15.7335   \n",
      "4002  24.7188  18.7164  2.6274  0.3349  0.1686   0.4381  17.8681  10.5741   \n",
      "4003  29.2258   8.3661  2.2601  0.6154  0.3489  30.7204  22.9136   6.7396   \n",
      "4004  19.3209  10.0193  2.3711  0.5532  0.2830  25.6493   5.2824   3.0817   \n",
      "\n",
      "        alpha     dist class  \n",
      "4000   0.4546  278.737     g  \n",
      "4001   6.3243  353.048     g  \n",
      "4002  46.5230  145.777     g  \n",
      "4003  44.9555  163.376     g  \n",
      "4004  62.0410  221.146     g  \n",
      "\n",
      "Chunk 5\n",
      "       length    width    size    conc   conc1     asym   m3long  m3trans  \\\n",
      "5000  25.5788  22.6088  2.9533  0.3051  0.1765  17.1220 -19.0968  12.6505   \n",
      "5001  73.7622  31.8887  3.2284  0.2541  0.1350 -68.2825  33.1459  10.1986   \n",
      "5002  92.4060  25.3394  3.1279  0.2264  0.1277 -53.7677  61.4713 -18.8075   \n",
      "5003  35.0068  13.5042  2.5635  0.3689  0.2036  27.8449  18.1721  -8.4982   \n",
      "5004  26.0944  18.3299  2.6345  0.3643  0.1937   7.1925  11.2326  11.7357   \n",
      "\n",
      "        alpha     dist class  \n",
      "5000  40.6790  232.667     g  \n",
      "5001  17.1230  267.947     g  \n",
      "5002   8.6244  308.919     g  \n",
      "5003   2.8670  242.869     g  \n",
      "5004  13.4290  164.053     g  \n",
      "\n",
      "Chunk 6\n",
      "       length    width    size    conc   conc1     asym   m3long  m3trans  \\\n",
      "6000  35.7518  24.4487  3.0011  0.2145  0.1222 -27.1295  14.6153 -16.6352   \n",
      "6001  80.5656  32.5623  3.5804  0.1645  0.0932  56.3687  72.6531  26.3970   \n",
      "6002  74.7577  25.4668  3.6840  0.1675  0.0856 -88.8636  65.2844  -6.7255   \n",
      "6003  32.1296  18.7433  2.8126  0.3587  0.1994  10.1949 -31.8830 -13.4996   \n",
      "6004  18.5317  10.3781  2.2041  0.5750  0.3094 -23.3881  -9.7754   4.3266   \n",
      "\n",
      "        alpha     dist class  \n",
      "6000  15.4842  200.751     g  \n",
      "6001   0.3452  266.336     g  \n",
      "6002   0.8433  252.295     g  \n",
      "6003   1.3250  219.449     g  \n",
      "6004  26.6697  205.578     g  \n",
      "\n",
      "Chunk 7\n",
      "       length    width    size    conc   conc1     asym   m3long  m3trans  \\\n",
      "7000  26.6924  10.1383  2.3701  0.5416  0.3006  -4.4800 -19.0632  -6.3652   \n",
      "7001  29.1511  21.8554  3.1318  0.3241  0.1702   7.8523   6.3735  14.8787   \n",
      "7002  18.6480  10.2825  2.4200  0.5856  0.2985  24.0201   8.9539   5.2148   \n",
      "7003  33.5462  21.3973  3.1052  0.2967  0.1637  19.7696  18.2868   9.7640   \n",
      "7004  17.3998  11.1244  2.4150  0.5500  0.2750  -0.9991   6.1629   0.1948   \n",
      "\n",
      "        alpha     dist class  \n",
      "7000  21.6380  213.759     g  \n",
      "7001  11.6197  111.530     g  \n",
      "7002  49.1410  198.230     g  \n",
      "7003   8.7244  176.299     g  \n",
      "7004  33.5627  217.054     g  \n",
      "\n",
      "Chunk 8\n",
      "       length    width    size    conc   conc1     asym   m3long  m3trans  \\\n",
      "8000  92.7512  16.9491  2.7490  0.3672  0.2130 -35.6368 -90.4231 -13.0992   \n",
      "8001  31.9028  14.8300  2.8052  0.3978  0.2028  16.5460  19.9450  14.2056   \n",
      "8002  63.7425  39.0333  3.2621  0.2773  0.1955 -22.0080 -19.6726 -30.6784   \n",
      "8003  33.3331  17.4154  3.1432  0.3013  0.1514 -12.3452  20.3642  10.9383   \n",
      "8004  42.2458  23.9115  3.2827  0.2154  0.1119  48.3995  32.0720  13.9913   \n",
      "\n",
      "        alpha      dist class  \n",
      "8000  16.2144   97.6517     g  \n",
      "8001   6.9052  224.6390     g  \n",
      "8002  18.0086  312.6370     g  \n",
      "8003   8.8660  153.9970     g  \n",
      "8004  15.0240  156.7570     g  \n",
      "\n",
      "Chunk 9\n",
      "       length    width    size    conc   conc1     asym   m3long  m3trans  \\\n",
      "9000  60.0737  18.2080  3.1339  0.2182  0.1231 -18.8277  18.2696  -6.6900   \n",
      "9001  26.1516  17.4999  2.7920  0.4019  0.2107  -6.3634  16.6793 -11.4837   \n",
      "9002  53.2380  20.4500  3.0406  0.2723  0.1389  54.0039  43.6942  12.9959   \n",
      "9003  42.7448  17.6601  2.7412  0.2976  0.1642   5.3478  22.4234  14.1585   \n",
      "9004  61.5175  26.4775  3.3753  0.1572  0.0845   3.5699  40.0819 -15.5083   \n",
      "\n",
      "        alpha     dist class  \n",
      "9000   5.6240  250.575     g  \n",
      "9001  10.6685  153.697     g  \n",
      "9002   5.6926  235.780     g  \n",
      "9003   8.9172  252.140     g  \n",
      "9004   3.0791  211.047     g  \n",
      "\n",
      "Chunk 10\n",
      "        length    width    size    conc   conc1     asym   m3long  m3trans  \\\n",
      "10000  29.7516  14.4386  2.7756  0.3839  0.1920  -6.6857   8.7238   6.5997   \n",
      "10001  25.0793  18.8493  2.4216  0.4356  0.2330 -19.1632 -17.3796 -15.7077   \n",
      "10002  35.2684  29.8030  2.7585  0.3069  0.1770  21.7830  33.3994  30.3932   \n",
      "10003  89.9295  28.1804  3.0732  0.1817  0.0942  26.0423  58.6150 -23.5047   \n",
      "10004  22.5061  11.1782  2.3598  0.5590  0.2948 -13.2691 -19.4770  -8.6011   \n",
      "\n",
      "         alpha      dist class  \n",
      "10000   2.3698  209.7780     g  \n",
      "10001  42.5060  138.9490     g  \n",
      "10002  56.5540  118.8200     g  \n",
      "10003   3.2204  300.6010     g  \n",
      "10004  63.0990   56.5891     g  \n",
      "\n",
      "Chunk 11\n",
      "        length    width    size    conc   conc1     asym   m3long  m3trans  \\\n",
      "11000  28.8406  10.3802  2.4040  0.5089  0.2978   3.7736  22.7713   7.1500   \n",
      "11001  88.5729  16.1790  2.7952  0.2885  0.1450  65.1352  82.7174 -12.0274   \n",
      "11002  87.4780  25.3397  3.1119  0.1971  0.1047 -97.8658  41.6994 -18.6430   \n",
      "11003  26.0564  17.3963  2.6848  0.4008  0.2593  -0.9388  14.4535  -9.3874   \n",
      "11004  16.9771  10.9403  2.2553  0.6389  0.3639   3.4201  -7.8253   7.3570   \n",
      "\n",
      "         alpha     dist class  \n",
      "11000  34.5180  141.221     g  \n",
      "11001   2.6340  279.831     g  \n",
      "11002   1.9930  263.913     g  \n",
      "11003  62.6010  122.550     g  \n",
      "11004  12.4336  187.589     g  \n",
      "\n",
      "Chunk 12\n",
      "        length    width    size    conc   conc1     asym   m3long  m3trans  \\\n",
      "12000  36.9368  24.6979  3.0667  0.2341  0.1282   2.0874 -20.8241  19.1646   \n",
      "12001  18.4648  16.1461  2.3901  0.4888  0.2790  19.5164  18.5118  -5.8176   \n",
      "12002  22.5329   9.0443  2.3729  0.6398  0.3581 -23.1293 -18.2522  11.1217   \n",
      "12003  19.5992   9.4707  2.2878  0.6134  0.3840 -21.5705 -12.9727   3.7667   \n",
      "12004  19.2311  17.4571  2.4265  0.4307  0.2191 -11.1038  13.5090  12.0603   \n",
      "\n",
      "         alpha      dist class  \n",
      "12000   2.4152  158.0460     g  \n",
      "12001  25.2990  224.6990     g  \n",
      "12002  35.6211   86.7946     g  \n",
      "12003  46.5340  121.3720     g  \n",
      "12004  84.8561   46.2057     g  \n",
      "\n",
      "Chunk 13\n",
      "         length    width    size    conc   conc1      asym    m3long  m3trans  \\\n",
      "13000  126.6906  35.1435  2.9217  0.2681  0.1430  131.2240   97.9527  19.9734   \n",
      "13001  303.2787  40.3691  3.4487  0.1013  0.0335 -258.7485 -242.5189  35.1782   \n",
      "13002  123.3037  16.8877  2.8551  0.3320  0.2544  119.9003   45.5684 -16.8921   \n",
      "13003   62.9978  39.3379  2.9009  0.4187  0.2309  -50.0145  -33.3566 -18.3305   \n",
      "13004  180.7107  43.4046  3.6852  0.0896  0.0392  -21.5309   67.5287 -27.3058   \n",
      "\n",
      "         alpha      dist class  \n",
      "13000  65.8786   90.5509     h  \n",
      "13001  73.7030  157.8170     h  \n",
      "13002  74.2747  238.6303     h  \n",
      "13003  19.8975  300.4438     h  \n",
      "13004  33.9000  125.6218     h  \n",
      "\n",
      "Chunk 14\n",
      "         length    width    size    conc   conc1      asym    m3long  m3trans  \\\n",
      "14000   64.6147  48.7627  3.2645  0.2676  0.1422  -36.6205   46.5261  28.5633   \n",
      "14001   73.4490  27.4219  3.3005  0.1949  0.1313 -106.4777  -42.2207  27.3266   \n",
      "14002   19.2805  13.2528  2.7718  0.4505  0.3041  -25.1131  -15.7549   9.9553   \n",
      "14003  154.5643  59.2228  3.2107  0.2196  0.1592 -150.5058 -101.0299 -40.0974   \n",
      "14004   17.0899  16.6616  2.3509  0.5209  0.3194   29.9208   11.0507   8.4029   \n",
      "\n",
      "         alpha      dist class  \n",
      "14000  77.9930  317.1160     h  \n",
      "14001  46.4513  270.7084     h  \n",
      "14002  78.6096   97.5432     h  \n",
      "14003  74.0884  359.5927     h  \n",
      "14004  69.2804   55.1584     h  \n",
      "\n",
      "Chunk 15\n",
      "         length    width    size    conc   conc1      asym   m3long  m3trans  \\\n",
      "15000   37.9753   5.1561  2.5209  0.6779  0.4316   31.3369  31.8875  -6.8782   \n",
      "15001   27.9583  14.0395  2.6915  0.4334  0.2594    6.6603 -14.7058  -4.4430   \n",
      "15002   44.6665  23.6658  2.7206  0.2550  0.1361  -67.3175  21.4992 -12.8329   \n",
      "15003  111.3448  22.4878  2.9761  0.3863  0.2071 -109.1883 -81.0276   7.2081   \n",
      "15004   41.2576  12.7220  2.5669  0.5178  0.2820    8.7340 -18.5681   3.7897   \n",
      "\n",
      "         alpha      dist class  \n",
      "15000  14.3465  265.8435     h  \n",
      "15001  40.4651  257.3290     h  \n",
      "15002   1.3387  113.8820     h  \n",
      "15003  18.4264  290.5854     h  \n",
      "15004  39.3094  227.6133     h  \n",
      "\n",
      "Chunk 16\n",
      "        length    width    size    conc   conc1     asym   m3long  m3trans  \\\n",
      "16000  12.5671  11.8738  2.0663  0.6867  0.3734  16.2799 -10.1284   0.0000   \n",
      "16001  25.8724  13.4735  2.1845  0.7215  0.4289  13.6769 -13.6750  -8.0402   \n",
      "16002  19.4632  10.5655  2.4048  0.6181  0.3720   7.1088 -16.5797   9.3113   \n",
      "16003  32.6820  13.5461  2.6473  0.3673  0.1707  14.9522   9.8967   8.3052   \n",
      "16004  30.1788  10.6125  2.4771  0.4600  0.2383  23.7772  16.4568  -8.6961   \n",
      "\n",
      "         alpha      dist class  \n",
      "16000  52.8294  112.9460     h  \n",
      "16001   4.6845  120.8897     h  \n",
      "16002  64.5190  166.1830     h  \n",
      "16003  75.2650  102.2822     h  \n"
     ]
    },
    {
     "name": "stdout",
     "output_type": "stream",
     "text": [
      "16004  80.6957  156.6080     h  \n",
      "\n",
      "Chunk 17\n",
      "         length    width    size    conc   conc1      asym    m3long  m3trans  \\\n",
      "17000    8.5738   8.1072  2.3023  0.7690  0.4282  -17.9207   -2.7859  10.7691   \n",
      "17001   23.5020  13.6746  2.5653  0.4816  0.3116    5.0085   16.0397   9.4612   \n",
      "17002  214.9680  52.8938  3.9427  0.0973  0.0508 -113.1400 -243.2760  19.1703   \n",
      "17003  119.5765  39.0866  3.7943  0.1156  0.0557   15.3892  -32.0839  19.5610   \n",
      "17004   69.6056  11.1889  3.0107  0.2966  0.1693   33.8472   46.1947   7.9043   \n",
      "\n",
      "         alpha      dist class  \n",
      "17000  54.9252  168.9304     h  \n",
      "17001  54.0460   57.9360     h  \n",
      "17002  15.6930  216.9280     h  \n",
      "17003  12.9172  175.2180     h  \n",
      "17004  46.8970  153.7170     h  \n",
      "\n",
      "Chunk 18\n",
      "         length    width    size    conc   conc1      asym   m3long  m3trans  \\\n",
      "18000   28.0590  11.3657  2.6604  0.4765  0.2940   -1.4959  23.0443  -8.6911   \n",
      "18001   22.7741   8.7941  2.5678  0.3704  0.1990   25.3865 -21.1473   8.0633   \n",
      "18002  106.9500  91.6046  3.6199  0.1982  0.1136 -181.1410  87.7473 -73.5722   \n",
      "18003   59.2444  10.4634  2.8051  0.4019  0.1971   49.4360  25.1317   7.0386   \n",
      "18004   26.0838  15.1407  2.8052  0.4401  0.2216   -9.0200 -20.8600  12.8384   \n",
      "\n",
      "         alpha      dist class  \n",
      "18000  24.4896  139.3750     h  \n",
      "18001  89.2581  227.5435     h  \n",
      "18002  75.5990  428.4090     h  \n",
      "18003  71.0828   48.1290     h  \n",
      "18004  73.4410  221.0290     h  \n",
      "\n",
      "Chunk 19\n",
      "         length    width    size    conc   conc1      asym   m3long  m3trans  \\\n",
      "19000   69.3556  31.9822  3.2231  0.3093  0.1744  -52.6569 -42.0622   6.3984   \n",
      "19001   57.1905  35.5095  2.7177  0.2337  0.1197  -48.5112 -54.2835  32.3612   \n",
      "19002  110.7140  26.8312  3.2212  0.1856  0.1247 -158.0625  73.2259  21.2864   \n",
      "19003   21.5189  15.4205  2.7328  0.5587  0.3117   -7.3668   9.2409  17.1609   \n",
      "19004   23.4293  11.3673  2.7001  0.3842  0.1890  -26.3784 -14.5363  15.6128   \n",
      "\n",
      "         alpha      dist class  \n",
      "19000   7.6304  289.2860     h  \n",
      "19001  44.7320  102.9950     h  \n",
      "19002   9.3725  281.8795     h  \n",
      "19003  80.4307  223.9730     h  \n",
      "19004  88.3032  269.0718     h  \n",
      "\n"
     ]
    }
   ],
   "source": [
    "import pandas as pd\n",
    "\n",
    "names = [\"length\", \"width\", \"size\", \"conc\", \"conc1\", \"asym\", \"m3long\", \"m3trans\", \"alpha\", \"dist\", \"class\"]\n",
    "data = pd.read_csv('magic04.csv.xz', names=names, iterator=True, chunksize=1000)\n",
    "for i,x in enumerate(data):\n",
    "    print(\"Chunk {}\".format(i))\n",
    "    print(x.head())\n",
    "    print()"
   ]
  },
  {
   "cell_type": "markdown",
   "metadata": {},
   "source": [
    "# Запись табличных данных"
   ]
  },
  {
   "cell_type": "markdown",
   "metadata": {},
   "source": [
    "## open(filename, 'w')"
   ]
  },
  {
   "cell_type": "code",
   "execution_count": 35,
   "metadata": {},
   "outputs": [
    {
     "name": "stdout",
     "output_type": "stream",
     "text": [
      "number,square,cube\n",
      "-10,100,-1000\n",
      "-9,81,-729\n",
      "-8,64,-512\n",
      "-7,49,-343\n",
      "-6,36,-216\n",
      "-5,25,-125\n",
      "-4,16,-64\n",
      "-3,9,-27\n",
      "-2,4,-8\n",
      "-1,1,-1\n",
      "0,0,0\n",
      "1,1,1\n",
      "2,4,8\n",
      "3,9,27\n",
      "4,16,64\n",
      "5,25,125\n",
      "6,36,216\n",
      "7,49,343\n",
      "8,64,512\n",
      "9,81,729\n",
      "10,100,1000\n",
      "\n"
     ]
    }
   ],
   "source": [
    "import os\n",
    "\n",
    "n = np.arange(-10, 11)\n",
    "square = n**2\n",
    "cube = n**3\n",
    "with open('d1.csv', 'w', encoding='utf8') as f:\n",
    "    f.write('number,square,cube' + os.linesep)\n",
    "    for x1, x2, x3 in zip(n, square, cube):\n",
    "        f.write('{},{},{}{}'.format(x1, x2, x3, os.linesep))\n",
    "        \n",
    "with open('d1.csv', encoding='utf8') as f:\n",
    "    print(f.read())"
   ]
  },
  {
   "cell_type": "markdown",
   "metadata": {},
   "source": [
    "## pandas"
   ]
  },
  {
   "cell_type": "code",
   "execution_count": 36,
   "metadata": {},
   "outputs": [
    {
     "name": "stdout",
     "output_type": "stream",
     "text": [
      "    number  square  cube\n",
      "0      -10     100 -1000\n",
      "1       -9      81  -729\n",
      "2       -8      64  -512\n",
      "3       -7      49  -343\n",
      "4       -6      36  -216\n",
      "5       -5      25  -125\n",
      "6       -4      16   -64\n",
      "7       -3       9   -27\n",
      "8       -2       4    -8\n",
      "9       -1       1    -1\n",
      "10       0       0     0\n",
      "11       1       1     1\n",
      "12       2       4     8\n",
      "13       3       9    27\n",
      "14       4      16    64\n",
      "15       5      25   125\n",
      "16       6      36   216\n",
      "17       7      49   343\n",
      "18       8      64   512\n",
      "19       9      81   729\n",
      "20      10     100  1000\n",
      "number,square,cube\n",
      "-10,100,-1000\n",
      "-9,81,-729\n",
      "-8,64,-512\n",
      "-7,49,-343\n",
      "-6,36,-216\n",
      "-5,25,-125\n",
      "-4,16,-64\n",
      "-3,9,-27\n",
      "-2,4,-8\n",
      "-1,1,-1\n",
      "0,0,0\n",
      "1,1,1\n",
      "2,4,8\n",
      "3,9,27\n",
      "4,16,64\n",
      "5,25,125\n",
      "6,36,216\n",
      "7,49,343\n",
      "8,64,512\n",
      "9,81,729\n",
      "10,100,1000\n",
      "\n"
     ]
    }
   ],
   "source": [
    "import pandas as pd\n",
    "\n",
    "df = pd.DataFrame({'number': n, 'square': square, 'cube': cube})\n",
    "print(df)\n",
    "df.to_csv('d2.csv', index=False)  # index=False — не выводить номер строки\n",
    "\n",
    "with open('d2.csv') as f:\n",
    "    print(f.read())"
   ]
  },
  {
   "cell_type": "markdown",
   "metadata": {},
   "source": [
    "## np.savetxt"
   ]
  },
  {
   "cell_type": "code",
   "execution_count": 37,
   "metadata": {},
   "outputs": [
    {
     "name": "stdout",
     "output_type": "stream",
     "text": [
      "# number square cube\n",
      "-1.000000000000000000e+01 1.000000000000000000e+02 -1.000000000000000000e+03\n",
      "-9.000000000000000000e+00 8.100000000000000000e+01 -7.290000000000000000e+02\n",
      "-8.000000000000000000e+00 6.400000000000000000e+01 -5.120000000000000000e+02\n",
      "-7.000000000000000000e+00 4.900000000000000000e+01 -3.430000000000000000e+02\n",
      "-6.000000000000000000e+00 3.600000000000000000e+01 -2.160000000000000000e+02\n",
      "-5.000000000000000000e+00 2.500000000000000000e+01 -1.250000000000000000e+02\n",
      "-4.000000000000000000e+00 1.600000000000000000e+01 -6.400000000000000000e+01\n",
      "-3.000000000000000000e+00 9.000000000000000000e+00 -2.700000000000000000e+01\n",
      "-2.000000000000000000e+00 4.000000000000000000e+00 -8.000000000000000000e+00\n",
      "-1.000000000000000000e+00 1.000000000000000000e+00 -1.000000000000000000e+00\n",
      "0.000000000000000000e+00 0.000000000000000000e+00 0.000000000000000000e+00\n",
      "1.000000000000000000e+00 1.000000000000000000e+00 1.000000000000000000e+00\n",
      "2.000000000000000000e+00 4.000000000000000000e+00 8.000000000000000000e+00\n",
      "3.000000000000000000e+00 9.000000000000000000e+00 2.700000000000000000e+01\n",
      "4.000000000000000000e+00 1.600000000000000000e+01 6.400000000000000000e+01\n",
      "5.000000000000000000e+00 2.500000000000000000e+01 1.250000000000000000e+02\n",
      "6.000000000000000000e+00 3.600000000000000000e+01 2.160000000000000000e+02\n",
      "7.000000000000000000e+00 4.900000000000000000e+01 3.430000000000000000e+02\n",
      "8.000000000000000000e+00 6.400000000000000000e+01 5.120000000000000000e+02\n",
      "9.000000000000000000e+00 8.100000000000000000e+01 7.290000000000000000e+02\n",
      "1.000000000000000000e+01 1.000000000000000000e+02 1.000000000000000000e+03\n",
      "\n"
     ]
    }
   ],
   "source": [
    "filename = \"savetxt.dat\"\n",
    "\n",
    "np.savetxt(filename, np.vstack([n, square, cube]).T, header=\"number square cube\")\n",
    "\n",
    "with open(filename) as f:\n",
    "    print(f.read())"
   ]
  },
  {
   "cell_type": "markdown",
   "metadata": {},
   "source": [
    "# Чтение и запись [JSON](https://ru.wikipedia.org/wiki/JSON)"
   ]
  },
  {
   "cell_type": "code",
   "execution_count": 38,
   "metadata": {},
   "outputs": [],
   "source": [
    "import json\n",
    "\n",
    "d = {\n",
    "    'electron':{\n",
    "        'mass':1,\n",
    "        'charge':1,\n",
    "    },\n",
    "    'photon':{\n",
    "    },\n",
    "    'positron':{\n",
    "        'mass':1,\n",
    "        'charge':-1,\n",
    "    },\n",
    "}\n",
    "\n",
    "with open('particles.json', 'w') as f:\n",
    "    json.dump(d, f)\n"
   ]
  },
  {
   "cell_type": "code",
   "execution_count": 39,
   "metadata": {},
   "outputs": [
    {
     "name": "stdout",
     "output_type": "stream",
     "text": [
      "{\"electron\": {\"mass\": 1, \"charge\": 1}, \"photon\": {}, \"positron\": {\"mass\": 1, \"charge\": -1}}\n",
      "{'mass': 1, 'charge': 1}\n"
     ]
    }
   ],
   "source": [
    "with open('particles.json', 'r') as f:\n",
    "    print(f.read())\n",
    "    f.seek(0)\n",
    "    p = json.load(f)\n",
    "    print(p['electron'])"
   ]
  },
  {
   "cell_type": "code",
   "execution_count": 40,
   "metadata": {},
   "outputs": [
    {
     "name": "stdout",
     "output_type": "stream",
     "text": [
      "2\n"
     ]
    }
   ],
   "source": [
    "with open('simple.json', 'w') as f:\n",
    "    f.write(\"\"\"\n",
    "        {\n",
    "            \"key\": 1,\n",
    "            \"key2\": 2\n",
    "        }\n",
    "    \"\"\")\n",
    "\n",
    "with open('simple.json', 'r') as f:\n",
    "    d = json.load(f)\n",
    "print(d['key2'])"
   ]
  },
  {
   "cell_type": "markdown",
   "metadata": {},
   "source": [
    "# Бинарные форматы\n",
    "\n",
    "Общий подход: это [погуглить](http://googleitfor.me/?q=tiff+open+in+python) модуль Питона, который умеет делать то, что вам нужно. Попробуйте узнать как прочесть картинку формата TIFF в Питоне"
   ]
  },
  {
   "cell_type": "markdown",
   "metadata": {},
   "source": [
    "## FITS\n",
    "Будем использовать изображние галактики Сомбреро"
   ]
  },
  {
   "cell_type": "code",
   "execution_count": 41,
   "metadata": {},
   "outputs": [
    {
     "name": "stdout",
     "output_type": "stream",
     "text": [
      "[[3 3 3 ... 0 0 0]\n",
      " [3 3 3 ... 0 0 0]\n",
      " [3 3 3 ... 1 1 1]\n",
      " ...\n",
      " [5 5 5 ... 4 5 5]\n",
      " [5 5 5 ... 1 3 2]\n",
      " [5 5 5 ... 3 5 2]]\n"
     ]
    }
   ],
   "source": [
    "from astropy.io import fits\n",
    "from PIL import Image\n",
    "\n",
    "with fits.open('sombrero.fits') as fits_file:\n",
    "    hdu = fits_file[0]\n",
    "    data = hdu.data\n",
    "print(data)\n",
    "image = Image.fromarray(data[::-1])\n",
    "image.save('sombrero.png')"
   ]
  },
  {
   "cell_type": "markdown",
   "metadata": {},
   "source": [
    "`sombrero.png`\n",
    "![sombrero image](sombrero.png)"
   ]
  },
  {
   "cell_type": "code",
   "execution_count": 42,
   "metadata": {},
   "outputs": [
    {
     "data": {
      "image/png": "[encoded data removed]",
      "text/plain": [
       "<PIL.Image.Image image mode=L size=800x448 at 0x7F7DFA4669B0>"
      ]
     },
     "execution_count": 42,
     "metadata": {},
     "output_type": "execute_result"
    }
   ],
   "source": [
    "np.save('dump.npy', data)\n",
    "\n",
    "data2 = np.load('dump.npy')\n",
    "\n",
    "Image.fromarray(data2[::-1])"
   ]
  },
  {
   "cell_type": "markdown",
   "metadata": {},
   "source": [
    "## Чтение NetCDF\n",
    "\n",
    "Возьмём файл с температурой поверхности океана с [сайта UCAR](https://www.unidata.ucar.edu/software/netcdf/examples/files.html): <https://www.unidata.ucar.edu/software/netcdf/examples/tos_O1_2001-2002.nc>"
   ]
  },
  {
   "cell_type": "code",
   "execution_count": 43,
   "metadata": {},
   "outputs": [
    {
     "name": "stdout",
     "output_type": "stream",
     "text": [
      "Dimension: OrderedDict([('lon', 180), ('lat', 170), ('time', None), ('bnds', 2)])\n",
      "Variable lon dims ('lon',) shape (180,)\n",
      "Variable lon_bnds dims ('lon', 'bnds') shape (180, 2)\n",
      "Variable lat dims ('lat',) shape (170,)\n",
      "Variable lat_bnds dims ('lat', 'bnds') shape (170, 2)\n",
      "Variable time dims ('time',) shape (24,)\n",
      "Variable time_bnds dims ('time', 'bnds') shape (24, 2)\n",
      "Variable tos dims ('time', 'lat', 'lon') shape (24, 170, 180)\n"
     ]
    },
    {
     "data": {
      "text/plain": [
       "274.5691"
      ]
     },
     "execution_count": 43,
     "metadata": {},
     "output_type": "execute_result"
    }
   ],
   "source": [
    "from scipy.io import netcdf\n",
    "\n",
    "with netcdf.netcdf_file('tos_O1_2001-2002.nc', mmap=False) as netcdf_file:\n",
    "    print(\"Dimension: {}\".format(netcdf_file.dimensions))\n",
    "    variables = netcdf_file.variables\n",
    "    for v in variables:\n",
    "        var = variables[v]\n",
    "        print(\"Variable {} dims {} shape {}\".format(v, var.dimensions, var.data.shape))\n",
    "time_index = np.searchsorted(variables['time'].data, 200)\n",
    "lat_index = np.searchsorted(variables['lat'].data, 75)\n",
    "lon_index = np.searchsorted(variables['lon'].data, 75)\n",
    "variables['tos'][time_index, lat_index, lon_index]"
   ]
  },
  {
   "cell_type": "markdown",
   "metadata": {},
   "source": [
    "# Построение графиков с `matplotlib`\n",
    "## Простой пример"
   ]
  },
  {
   "cell_type": "code",
   "execution_count": 44,
   "metadata": {},
   "outputs": [],
   "source": [
    "# Если хотим только сохранять картинки, не хотим выводить в окошко\n",
    "import matplotlib; matplotlib.use('Agg')\n",
    "import matplotlib.pyplot as plt\n",
    "import numpy as np\n",
    "\n",
    "x = np.linspace(0, np.pi, 100)\n",
    "u = np.sin(x)\n",
    "v = np.cos(x)\n",
    "plt.figure()  # новый график\n",
    "plt.plot(x, u, label='sine')\n",
    "plt.plot(x, v, label='cosine')\n",
    "plt.legend()\n",
    "plt.grid()\n",
    "plt.savefig('matplotlib.png')"
   ]
  },
  {
   "cell_type": "markdown",
   "metadata": {},
   "source": [
    "`matplotlib.png`\n",
    "![matplotlib image](matplotlib.png)\n",
    "## Контурные карты"
   ]
  },
  {
   "cell_type": "code",
   "execution_count": 45,
   "metadata": {},
   "outputs": [],
   "source": [
    "grid = np.linspace(-1, 1, 10)\n",
    "x, y = np.meshgrid(grid, grid)\n",
    "z = np.random.rand(*x.shape)\n",
    "plt.figure(figsize=(5, 5))\n",
    "plt.contourf(x, y, z)\n",
    "plt.grid()\n",
    "plt.savefig('matplotlib_contour.png')"
   ]
  },
  {
   "cell_type": "markdown",
   "metadata": {},
   "source": [
    "`matplotlib_contour.png`\n",
    "![matplotlib contour](matplotlib_contour.png)"
   ]
  },
  {
   "cell_type": "code",
   "execution_count": 46,
   "metadata": {},
   "outputs": [],
   "source": [
    "x = variables['lon'].data\n",
    "y = variables['lat'].data\n",
    "z = variables['tos'][0, :, :]\n",
    "\n",
    "plt.figure(figsize=(10, 10))\n",
    "plt.contourf(x, y, z, levels=np.linspace(270,310,256))\n",
    "plt.grid()\n",
    "plt.savefig('tos_contour.png')"
   ]
  },
  {
   "cell_type": "markdown",
   "metadata": {},
   "source": [
    "`tos_contour.png`\n",
    "![tos_contour image](tos_contour.png)"
   ]
  },
  {
   "cell_type": "code",
   "execution_count": null,
   "metadata": {},
   "outputs": [],
   "source": []
  }
 ],
 "metadata": {
  "kernelspec": {
   "display_name": "Python 3",
   "language": "python",
   "name": "python3"
  },
  "language_info": {
   "codemirror_mode": {
    "name": "ipython",
    "version": 3
   },
   "file_extension": ".py",
   "mimetype": "text/x-python",
   "name": "python",
   "nbconvert_exporter": "python",
   "pygments_lexer": "ipython3",
   "version": "3.6.12"
  }
 },
 "nbformat": 4,
 "nbformat_minor": 2
}
